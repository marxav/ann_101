{
 "cells": [
  {
   "cell_type": "markdown",
   "metadata": {},
   "source": [
    "## Import Python Libraries"
   ]
  },
  {
   "cell_type": "code",
   "execution_count": 1,
   "metadata": {},
   "outputs": [],
   "source": [
    "# package to store and manipulate neural-network input and output data\n",
    "import numpy as np\n",
    "\n",
    "# package to graphically display any data\n",
    "import matplotlib.pyplot as plt\n",
    "\n",
    "# package to manipulate neural-network models\n",
    "import torch\n",
    "import torch.nn as nn\n",
    "import torch.optim as optim\n",
    "\n",
    "from torch.utils.data import DataLoader, random_split\n",
    "from torch.utils.data import TensorDataset\n",
    "\n",
    "# packages for templating ANN code\n",
    "import pytorch_lightning as pl\n",
    "\n",
    "from pytorch_lightning.callbacks import EarlyStopping\n",
    "from pytorch_lightning.utilities import rank_zero_only\n",
    "from pytorch_lightning.loggers import LightningLoggerBase"
   ]
  },
  {
   "cell_type": "code",
   "execution_count": 2,
   "metadata": {},
   "outputs": [],
   "source": [
    "#if notebook is runned in Google Colab, you may need to install PL\n",
    "#!pip install pytorch_lightning"
   ]
  },
  {
   "cell_type": "code",
   "execution_count": 3,
   "metadata": {},
   "outputs": [],
   "source": [
    "# remove preexisting traces\n",
    "#!rm -rf lightning_logs/"
   ]
  },
  {
   "cell_type": "code",
   "execution_count": 4,
   "metadata": {},
   "outputs": [
    {
     "name": "stdout",
     "output_type": "stream",
     "text": [
      "Pytorch version: 1.5.1\n",
      "Pytorch Lightning version: 0.8.4\n"
     ]
    }
   ],
   "source": [
    "print(\"Pytorch version:\", torch.__version__)\n",
    "print(\"Pytorch Lightning version:\", pl.__version__)"
   ]
  },
  {
   "cell_type": "code",
   "execution_count": 5,
   "metadata": {},
   "outputs": [
    {
     "name": "stdout",
     "output_type": "stream",
     "text": [
      "GPU support (GeForce RTX 2080 Ti)\n"
     ]
    }
   ],
   "source": [
    "if torch.cuda.is_available():\n",
    "  print('GPU support (%s)' % torch.cuda.get_device_name(0))\n",
    "else:\n",
    "  print('no GPU support')"
   ]
  },
  {
   "cell_type": "markdown",
   "metadata": {},
   "source": [
    "## Get the Data"
   ]
  },
  {
   "cell_type": "code",
   "execution_count": 6,
   "metadata": {},
   "outputs": [],
   "source": [
    "X_train = np.array([0.765,0.838,0.329,0.277,0.45,0.833,0.44,0.634,0.351,0.784,0.589,0.816,0.352,0.591,0.04,0.38,0.816,0.732,0.32,0.597,0.908,0.146,0.691,0.75,0.568,0.866,0.705,0.027,0.607,0.793,0.864,0.057,0.877,0.164,0.729,0.291,0.324,0.745,0.158,0.098,0.113,0.794,0.452,0.765,0.983,0.001,0.474,0.773,0.155,0.875,])\n",
    "Y_train = np.array([6.322,6.254,3.224,2.87,4.177,6.267,4.088,5.737,3.379,6.334,5.381,6.306,3.389,5.4,1.704,3.602,6.306,6.254,3.157,5.446,5.918,2.147,6.088,6.298,5.204,6.147,6.153,1.653,5.527,6.332,6.156,1.766,6.098,2.236,6.244,2.96,3.183,6.287,2.205,1.934,1.996,6.331,4.188,6.322,5.368,1.561,4.383,6.33,2.192,6.108,])\n",
    "X_val = np.array([0.329,0.528,0.323,0.952,0.868,0.931,0.69,0.112,0.574,0.421,0.972,0.715,0.7,0.58,0.69,0.163,0.093,0.695,0.493,0.243,0.928,0.409,0.619,0.011,0.218,0.647,0.499,0.354,0.064,0.571,0.836,0.068,0.451,0.074,0.158,0.571,0.754,0.259,0.035,0.595,0.245,0.929,0.546,0.901,0.822,0.797,0.089,0.924,0.903,0.334,])\n",
    "Y_val = np.array([3.221,4.858,3.176,5.617,6.141,5.769,6.081,1.995,5.259,3.932,5.458,6.193,6.129,5.305,6.081,2.228,1.912,6.106,4.547,2.665,5.791,3.829,5.619,1.598,2.518,5.826,4.603,3.405,1.794,5.23,6.26,1.81,4.18,1.832,2.208,5.234,6.306,2.759,1.684,5.432,2.673,5.781,5.019,5.965,6.295,6.329,1.894,5.816,5.951,3.258,])"
   ]
  },
  {
   "cell_type": "code",
   "execution_count": 7,
   "metadata": {},
   "outputs": [
    {
     "name": "stdout",
     "output_type": "stream",
     "text": [
      "X_train contains 50 samples\n",
      "Y_train contains 50 samples\n",
      "\n",
      "X_val contains 50 samples\n",
      "Y_val contains 50 samples\n"
     ]
    }
   ],
   "source": [
    "print('X_train contains %d samples' % X_train.shape)\n",
    "print('Y_train contains %d samples' % Y_train.shape)\n",
    "print('')\n",
    "print('X_val contains %d samples' % X_val.shape)\n",
    "print('Y_val contains %d samples' % Y_val.shape)"
   ]
  },
  {
   "cell_type": "code",
   "execution_count": 8,
   "metadata": {},
   "outputs": [
    {
     "data": {
      "image/png": "[encoded data removed]",
      "text/plain": [
       "<Figure size 432x288 with 1 Axes>"
      ]
     },
     "metadata": {
      "needs_background": "light"
     },
     "output_type": "display_data"
    }
   ],
   "source": [
    "# Graphically display our training data\n",
    "plt.scatter(X_train, Y_train, color='green', alpha=0.5)\n",
    "plt.title('Scatter plot of the training data')\n",
    "plt.xlabel('x')\n",
    "plt.ylabel('y')\n",
    "plt.show()"
   ]
  },
  {
   "cell_type": "code",
   "execution_count": 9,
   "metadata": {},
   "outputs": [
    {
     "data": {
      "image/png": "[encoded data removed]",
      "text/plain": [
       "<Figure size 432x288 with 1 Axes>"
      ]
     },
     "metadata": {
      "needs_background": "light"
     },
     "output_type": "display_data"
    }
   ],
   "source": [
    "# Graphically display our test data\n",
    "plt.scatter(X_val, Y_val, color='blue', alpha=0.5)\n",
    "plt.title('Scatter plot of the validation data')\n",
    "plt.xlabel('x')\n",
    "plt.ylabel('y')\n",
    "plt.show()"
   ]
  },
  {
   "cell_type": "code",
   "execution_count": 10,
   "metadata": {},
   "outputs": [],
   "source": [
    "## Build the artificial neural-network"
   ]
  },
  {
   "cell_type": "code",
   "execution_count": 11,
   "metadata": {},
   "outputs": [],
   "source": [
    "class ANN(pl.LightningModule):\n",
    "\n",
    "  def __init__(self):\n",
    "    \n",
    "    super().__init__()\n",
    "    self.layer_1 = torch.nn.Linear(1, 8)\n",
    "    self.layer_2 = torch.nn.Linear(8, 8)\n",
    "    self.layer_o = torch.nn.Linear(8, 1)\n",
    "    \n",
    "    \n",
    "  def forward(self, x):\n",
    "    #x = x.view(1, -1)\n",
    "    x = self.layer_1(x)\n",
    "    x = torch.nn.functional.relu(x)\n",
    "    x = self.layer_2(x)\n",
    "    x = torch.nn.functional.relu(x)\n",
    "    x = self.layer_o(x)\n",
    "    return(x)\n",
    "      \n",
    "  def train_dataloader(self):\n",
    "    \n",
    "    X_train2 = torch.from_numpy(X_train).unsqueeze(1).float()\n",
    "    Y_train2 = torch.from_numpy(Y_train).unsqueeze(1).float()\n",
    "\n",
    "    dataset = TensorDataset(X_train2, Y_train2)\n",
    "    return DataLoader(dataset, num_workers=1, batch_size=1)\n",
    "\n",
    "  def val_dataloader(self):\n",
    "    \n",
    "    X_val2 = torch.from_numpy(X_val).unsqueeze(1).float()\n",
    "    Y_val2 = torch.from_numpy(Y_val).unsqueeze(1).float()\n",
    "\n",
    "    dataset = TensorDataset(X_val2, Y_val2)\n",
    "    return DataLoader(dataset, num_workers=1, batch_size=1)\n",
    "\n",
    "  def test_dataloader(self):\n",
    "    \n",
    "    X_test = np.array([0., 0.2, 0.4, 0.6, 0.8, 1.0])\n",
    "    Y_test = np.tan(np.sin(self.X_test) + np.cos(self.X_test)) \n",
    "\n",
    "    X_test2 = torch.from_numpy(X_test).unsqueeze(1).float()\n",
    "    Y_test2 = torch.from_numpy(Y_test).unsqueeze(1).float()\n",
    "\n",
    "    dataset = TensorDataset(X_test2, Y_test2)\n",
    "    \n",
    "    return DataLoader(dataset, num_workers=1, batch_size=1)\n",
    "\n",
    "  def configure_optimizers(self):\n",
    "    optimizer = optim.SGD(self.parameters(), lr=0.02)\n",
    "    return optimizer\n",
    "\n",
    "  # optional\n",
    "  def mse_loss(self, output, target):\n",
    "    mean_squared_error = torch.sum((output - target) ** 2)/target.shape[0]\n",
    "    return mean_squared_error\n",
    "\n",
    "  def training_step(self, train_batch, batch_nb):\n",
    "    \n",
    "    x, target = train_batch\n",
    "    output = self.forward(x)\n",
    "    loss = self.mse_loss(output, target)\n",
    "    logs = {'train_loss': loss}\n",
    "    return {'loss': loss, 'log': logs}\n",
    "    \n",
    "  def validation_step(self, valid_batch, batch_nb):\n",
    "  \n",
    "    x, target = valid_batch\n",
    "    output = self.forward(x)\n",
    "    loss = self.mse_loss(output, target)\n",
    "    logs = {'val_loss': loss}\n",
    "    return {'val_loss': loss, 'log': logs}\n",
    "\n",
    "  def validation_epoch_end(self, outputs):\n",
    "    val_loss_mean = torch.stack([x['val_loss'] for x in outputs]).mean()\n",
    "    return {'val_loss': val_loss_mean}\n",
    "\n",
    "  def test_step(self, test_batch, batch_nb):\n",
    "  \n",
    "    x, target = test_batch\n",
    "    output = self.forward(x)\n",
    "    loss = self.mse_loss(output, target)\n",
    "    return {'test_loss': loss}"
   ]
  },
  {
   "cell_type": "code",
   "execution_count": 12,
   "metadata": {},
   "outputs": [],
   "source": [
    "ann_model = ANN()"
   ]
  },
  {
   "cell_type": "code",
   "execution_count": 13,
   "metadata": {},
   "outputs": [
    {
     "name": "stdout",
     "output_type": "stream",
     "text": [
      "params: 97\n",
      "trainable_params: 97\n"
     ]
    }
   ],
   "source": [
    "print('params:', sum(p.numel() for p in ann_model.parameters()))\n",
    "print('trainable_params:', sum(p.numel() for p in ann_model.parameters() if p.requires_grad))"
   ]
  },
  {
   "cell_type": "markdown",
   "metadata": {},
   "source": [
    "## Train the artificial neural-network model"
   ]
  },
  {
   "cell_type": "code",
   "execution_count": 14,
   "metadata": {},
   "outputs": [],
   "source": [
    "# default used by the Trainer\n",
    "early_stopping = EarlyStopping(\n",
    "    monitor='val_loss',    \n",
    "    mode='min',\n",
    "    patience=10,\n",
    "    strict=True,\n",
    "    verbose=False,\n",
    ")"
   ]
  },
  {
   "cell_type": "code",
   "execution_count": 15,
   "metadata": {},
   "outputs": [
    {
     "name": "stderr",
     "output_type": "stream",
     "text": [
      "GPU available: True, used: False\n",
      "TPU available: False, using: 0 TPU cores\n",
      "/home/arc/.local/lib/python3.6/site-packages/pytorch_lightning/utilities/distributed.py:25: RuntimeWarning: You have defined a `test_dataloader()` and have defined a `test_step()`, you may also want to define `test_epoch_end()` for accumulating stats.\n",
      "  warnings.warn(*args, **kwargs)\n",
      "\n",
      "  | Name    | Type   | Params\n",
      "-----------------------------------\n",
      "0 | layer_1 | Linear | 16    \n",
      "1 | layer_2 | Linear | 72    \n",
      "2 | layer_o | Linear | 9     \n",
      "/home/arc/.local/lib/python3.6/site-packages/pytorch_lightning/utilities/distributed.py:25: UserWarning: The dataloader, val dataloader 0, does not have many workers which may be a bottleneck. Consider increasing the value of the `num_workers` argument` (try 28 which is the number of cpus on this machine) in the `DataLoader` init to improve performance.\n",
      "  warnings.warn(*args, **kwargs)\n",
      "/home/arc/.local/lib/python3.6/site-packages/pytorch_lightning/utilities/distributed.py:25: UserWarning: The dataloader, train dataloader, does not have many workers which may be a bottleneck. Consider increasing the value of the `num_workers` argument` (try 28 which is the number of cpus on this machine) in the `DataLoader` init to improve performance.\n",
      "  warnings.warn(*args, **kwargs)\n"
     ]
    },
    {
     "data": {
      "text/plain": [
       "1"
      ]
     },
     "execution_count": 15,
     "metadata": {},
     "output_type": "execute_result"
    }
   ],
   "source": [
    "# There might currently a bug with PL and underlying tqdm package\n",
    "# with displays \"HBox(children=...\" lines instead of progress bar :-(\n",
    "# in order to avoid it, you need to install jupyter lab extension\n",
    "# jupyter nbextension enable --py widgetsnbextension\n",
    "\n",
    "# look at all possible *training* options at:\n",
    "# https://pytorch-lightning.readthedocs.io/en/latest/trainer.html\n",
    "trainer = pl.Trainer(max_epochs=1000, check_val_every_n_epoch=1, progress_bar_refresh_rate=0)\n",
    "#trainer = pl.Trainer(distributed_backend='dp', gpus=2, max_epochs=20000, check_val_every_n_epoch=1, early_stop_callback=early_stopping)\n",
    "#, logger=my_logger)\n",
    "\n",
    "trainer.fit(ann_model)"
   ]
  },
  {
   "cell_type": "code",
   "execution_count": 16,
   "metadata": {},
   "outputs": [
    {
     "data": {
      "text/plain": [
       "Reusing TensorBoard on port 6006 (pid 11162), started 4:26:33 ago. (Use '!kill 11162' to kill it.)"
      ]
     },
     "metadata": {},
     "output_type": "display_data"
    },
    {
     "data": {
      "text/html": [
       "\n",
       "      <iframe id=\"tensorboard-frame-2a0f584dd5fb38f1\" width=\"100%\" height=\"800\" frameborder=\"0\">\n",
       "      </iframe>\n",
       "      <script>\n",
       "        (function() {\n",
       "          const frame = document.getElementById(\"tensorboard-frame-2a0f584dd5fb38f1\");\n",
       "          const url = new URL(\"/\", window.location);\n",
       "          url.port = 6006;\n",
       "          frame.src = url;\n",
       "        })();\n",
       "      </script>\n",
       "  "
      ],
      "text/plain": [
       "<IPython.core.display.HTML object>"
      ]
     },
     "metadata": {},
     "output_type": "display_data"
    }
   ],
   "source": [
    "%reload_ext tensorboard\n",
    "%tensorboard --logdir lightning_logs/"
   ]
  },
  {
   "cell_type": "code",
   "execution_count": 17,
   "metadata": {},
   "outputs": [],
   "source": [
    "X_valt = torch.from_numpy(X_val).unsqueeze(1).float()\n",
    "Ŷ_valt = ann_model(X_valt)\n",
    "Ŷ_valt\n",
    "Ŷ_val = []\n",
    "i = 0\n",
    "for i in range(Ŷ_valt.shape[0]):\n",
    "    val  = Ŷ_valt[i][0].detach().numpy()\n",
    "    Ŷ_val.append(val)"
   ]
  },
  {
   "cell_type": "markdown",
   "metadata": {},
   "source": [
    "## Infer new output data"
   ]
  },
  {
   "cell_type": "code",
   "execution_count": 18,
   "metadata": {},
   "outputs": [],
   "source": [
    "X_test = np.array([0., 0.2, 0.4, 0.6, 0.8, 1.0])\n",
    "X_testt = torch.from_numpy(X_test).unsqueeze(1).float()\n",
    "Ŷ_testt = ann_model(X_testt)\n",
    "Ŷ_testt\n",
    "Ŷ_test = []\n",
    "i = 0\n",
    "for i in range(Ŷ_testt.shape[0]):\n",
    "    val  = Ŷ_testt[i][0].detach().numpy()\n",
    "    Ŷ_test.append(val)"
   ]
  },
  {
   "cell_type": "code",
   "execution_count": 19,
   "metadata": {},
   "outputs": [
    {
     "data": {
      "image/png": "[encoded data removed]",
      "text/plain": [
       "<Figure size 432x288 with 1 Axes>"
      ]
     },
     "metadata": {
      "needs_background": "light"
     },
     "output_type": "display_data"
    }
   ],
   "source": [
    "# Display training data and predicted data graphically\n",
    "plt.title('Training data (green color) + Predicted data (red color)')\n",
    "\n",
    "# training data in green color\n",
    "plt.scatter(X_train, Y_train, color='green',  alpha=0.5)\n",
    "\n",
    "# valid data in blue color\n",
    "plt.scatter(X_val, Ŷ_val, color='blue',  alpha=0.5)\n",
    "\n",
    "# predicted data in blue color\n",
    "plt.scatter(X_test, Ŷ_test, color='red',  alpha=0.5)\n",
    "#plt.scatter(model.X_test, predictions_actual[0].numpy() , color='green',  alpha=0.5)\n",
    "\n",
    "plt.xlabel('x')\n",
    "plt.ylabel('y')\n",
    "plt.show()"
   ]
  }
 ],
 "metadata": {
  "kernelspec": {
   "display_name": "Python 3",
   "language": "python",
   "name": "python3"
  },
  "language_info": {
   "codemirror_mode": {
    "name": "ipython",
    "version": 3
   },
   "file_extension": ".py",
   "mimetype": "text/x-python",
   "name": "python",
   "nbconvert_exporter": "python",
   "pygments_lexer": "ipython3",
   "version": "3.6.9"
  }
 },
 "nbformat": 4,
 "nbformat_minor": 4
}
