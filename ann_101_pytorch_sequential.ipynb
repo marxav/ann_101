{
  "nbformat": 4,
  "nbformat_minor": 0,
  "metadata": {
    "colab": {
      "name": "Artificial_Neural_Network_101_PYTORCH.ipynb",
      "provenance": [],
      "collapsed_sections": [],
      "include_colab_link": true
    },
    "kernelspec": {
      "display_name": "Python 3",
      "language": "python",
      "name": "python3"
    },
    "language_info": {
      "codemirror_mode": {
        "name": "ipython",
        "version": 3
      },
      "file_extension": ".py",
      "mimetype": "text/x-python",
      "name": "python",
      "nbconvert_exporter": "python",
      "pygments_lexer": "ipython3",
      "version": "3.6.9"
    }
  },
  "cells": [
    {
      "cell_type": "markdown",
      "metadata": {
        "id": "view-in-github",
        "colab_type": "text"
      },
      "source": [
        "<a href=\"https://colab.research.google.com/github/marxav/ann_101/blob/master/ann_101_pytorch_sequential.ipynb\" target=\"_parent\"><img src=\"https://colab.research.google.com/assets/colab-badge.svg\" alt=\"Open In Colab\"/></a>"
      ]
    },
    {
      "cell_type": "markdown",
      "metadata": {
        "id": "23b-DNvOa9jC"
      },
      "source": [
        "## Import Python librairies"
      ]
    },
    {
      "cell_type": "code",
      "metadata": {
        "id": "pRu_5l-QzZ0y"
      },
      "source": [
        "# package to store and manipulate neural-network input and output data\n",
        "import numpy as np\n",
        "\n",
        "# package to graphically display any data\n",
        "import matplotlib.pyplot as plt\n",
        "\n",
        "# package to manipulate neural-network models\n",
        "import torch\n",
        "import torch.nn as nn\n",
        "import torch.optim as optim"
      ],
      "execution_count": null,
      "outputs": []
    },
    {
      "cell_type": "code",
      "metadata": {
        "id": "OQHfsGcWze-8",
        "outputId": "24ebc41a-61cc-4bf4-943d-361c3c3fc5b1",
        "colab": {
          "base_uri": "https://localhost:8080/",
          "height": 35
        }
      },
      "source": [
        "# the code is compatible with Tensflow v1.4.0\n",
        "print(\"Pytorch version:\", torch.__version__)"
      ],
      "execution_count": null,
      "outputs": [
        {
          "output_type": "stream",
          "text": [
            "Pytorch version: 1.5.1\n"
          ],
          "name": "stdout"
        }
      ]
    },
    {
      "cell_type": "code",
      "metadata": {
        "id": "hALQopq8LiIW",
        "outputId": "4f226c2a-c4b2-4420-b8fb-7f317135c1b2",
        "colab": {
          "base_uri": "https://localhost:8080/",
          "height": 35
        }
      },
      "source": [
        "# To check whether you code will use a GPU or not, uncomment the following two\n",
        "# lines of code. You should either see:\n",
        "# * an \"XLA_GPU\", \n",
        "# * or better a \"K80\" GPU\n",
        "# * or even better a \"T100\" GPU\n",
        "\n",
        "if torch.cuda.is_available():\n",
        "  print('GPU support (%s)' % torch.cuda.get_device_name(0))\n",
        "else:\n",
        "  print('no GPU support')"
      ],
      "execution_count": null,
      "outputs": [
        {
          "output_type": "stream",
          "text": [
            "GPU support (GeForce RTX 2080 Ti)\n"
          ],
          "name": "stdout"
        }
      ]
    },
    {
      "cell_type": "code",
      "metadata": {
        "id": "m6DkCttHHu41"
      },
      "source": [
        "import time\n",
        "\n",
        "# trivial \"debug\" function to display the duration between time_1 and time_2\n",
        "def get_duration(time_1, time_2):\n",
        "  duration_time = time_2 - time_1\n",
        "  m, s = divmod(duration_time, 60)\n",
        "  h, m = divmod(m, 60)\n",
        "  s,m,h = int(round(s, 0)), int(round(m, 0)), int(round(h, 0))\n",
        "  duration = \"duration: \" + \"{0:02d}:{1:02d}:{2:02d}\".format(h, m, s)\n",
        "  return duration"
      ],
      "execution_count": null,
      "outputs": []
    },
    {
      "cell_type": "markdown",
      "metadata": {
        "id": "d_53UB62hgdW"
      },
      "source": [
        "## Get the data"
      ]
    },
    {
      "cell_type": "code",
      "metadata": {
        "id": "HdfJ-KKbLWkx"
      },
      "source": [
        "X_train = np.array([0.765,0.838,0.329,0.277,0.45,0.833,0.44,0.634,0.351,0.784,0.589,0.816,0.352,0.591,0.04,0.38,0.816,0.732,0.32,0.597,0.908,0.146,0.691,0.75,0.568,0.866,0.705,0.027,0.607,0.793,0.864,0.057,0.877,0.164,0.729,0.291,0.324,0.745,0.158,0.098,0.113,0.794,0.452,0.765,0.983,0.001,0.474,0.773,0.155,0.875,])\n",
        "Y_train = np.array([6.322,6.254,3.224,2.87,4.177,6.267,4.088,5.737,3.379,6.334,5.381,6.306,3.389,5.4,1.704,3.602,6.306,6.254,3.157,5.446,5.918,2.147,6.088,6.298,5.204,6.147,6.153,1.653,5.527,6.332,6.156,1.766,6.098,2.236,6.244,2.96,3.183,6.287,2.205,1.934,1.996,6.331,4.188,6.322,5.368,1.561,4.383,6.33,2.192,6.108,])\n",
        "X_val = np.array([0.329,0.528,0.323,0.952,0.868,0.931,0.69,0.112,0.574,0.421,0.972,0.715,0.7,0.58,0.69,0.163,0.093,0.695,0.493,0.243,0.928,0.409,0.619,0.011,0.218,0.647,0.499,0.354,0.064,0.571,0.836,0.068,0.451,0.074,0.158,0.571,0.754,0.259,0.035,0.595,0.245,0.929,0.546,0.901,0.822,0.797,0.089,0.924,0.903,0.334,])\n",
        "Y_val = np.array([3.221,4.858,3.176,5.617,6.141,5.769,6.081,1.995,5.259,3.932,5.458,6.193,6.129,5.305,6.081,2.228,1.912,6.106,4.547,2.665,5.791,3.829,5.619,1.598,2.518,5.826,4.603,3.405,1.794,5.23,6.26,1.81,4.18,1.832,2.208,5.234,6.306,2.759,1.684,5.432,2.673,5.781,5.019,5.965,6.295,6.329,1.894,5.816,5.951,3.258,])"
      ],
      "execution_count": null,
      "outputs": []
    },
    {
      "cell_type": "code",
      "metadata": {
        "id": "fyyY5acYagOB",
        "outputId": "58862a0a-2000-43ce-8a70-802a5f9ac675",
        "colab": {
          "base_uri": "https://localhost:8080/",
          "height": 109
        }
      },
      "source": [
        "print('X_train contains %d samples' % X_train.shape)\n",
        "print('Y_train contains %d samples' % Y_train.shape)\n",
        "print('')\n",
        "print('X_val contains %d samples' % X_val.shape)\n",
        "print('Y_val contains %d samples' % Y_val.shape)"
      ],
      "execution_count": null,
      "outputs": [
        {
          "output_type": "stream",
          "text": [
            "X_train contains 50 samples\n",
            "Y_train contains 50 samples\n",
            "\n",
            "X_val contains 50 samples\n",
            "Y_val contains 50 samples\n"
          ],
          "name": "stdout"
        }
      ]
    },
    {
      "cell_type": "code",
      "metadata": {
        "id": "L8itA09R9W20",
        "outputId": "8a11d48f-39dd-49e9-a5d9-a4b29ce1d5fd",
        "colab": {
          "base_uri": "https://localhost:8080/",
          "height": 295
        }
      },
      "source": [
        "# Graphically display our training data\n",
        "plt.scatter(X_train, Y_train, color='green', alpha=0.5)\n",
        "plt.title('Scatter plot of the training data')\n",
        "plt.xlabel('x')\n",
        "plt.ylabel('y')\n",
        "plt.show()"
      ],
      "execution_count": null,
      "outputs": [
        {
          "output_type": "display_data",
          "data": {
            "image/png": "[encoded data removed]",
            "text/plain": [
              "<Figure size 432x288 with 1 Axes>"
            ]
          },
          "metadata": {
            "tags": [],
            "needs_background": "light"
          }
        }
      ]
    },
    {
      "cell_type": "code",
      "metadata": {
        "id": "xoT9UQ_o6KeP",
        "outputId": "7fe5fbec-1b01-41a6-c44c-3e4fca5832fc",
        "colab": {
          "base_uri": "https://localhost:8080/",
          "height": 295
        }
      },
      "source": [
        "# Graphically display our test data\n",
        "plt.scatter(X_val, Y_val, color='blue', alpha=0.5)\n",
        "plt.title('Scatter plot of the validation data')\n",
        "plt.xlabel('x')\n",
        "plt.ylabel('y')\n",
        "plt.show()"
      ],
      "execution_count": null,
      "outputs": [
        {
          "output_type": "display_data",
          "data": {
            "image/png": "[encoded data removed]",
            "text/plain": [
              "<Figure size 432x288 with 1 Axes>"
            ]
          },
          "metadata": {
            "tags": [],
            "needs_background": "light"
          }
        }
      ]
    },
    {
      "cell_type": "markdown",
      "metadata": {
        "id": "1OpOnS6phnec"
      },
      "source": [
        "## Build the artificial neural-network"
      ]
    },
    {
      "cell_type": "code",
      "metadata": {
        "id": "B6HcpfOpFbr_"
      },
      "source": [
        "from collections import OrderedDict\n",
        "\n",
        "def create_model():\n",
        "  \n",
        "  # This returns a tensor\n",
        "  model = nn.Sequential(OrderedDict([\n",
        "      ('hidden_layer_1', nn.Linear(1,8)), ('hidden_layer_1_act', nn.ReLU()),\n",
        "      ('hidden_layer_2', nn.Linear(8,8)), ('hidden_layer_2_act', nn.ReLU()),\n",
        "      ('output_layer', nn.Linear(8,1))\n",
        "  ]))\n",
        "\n",
        "  return model"
      ],
      "execution_count": null,
      "outputs": []
    },
    {
      "cell_type": "code",
      "metadata": {
        "id": "-qXNDkNhCFK4"
      },
      "source": [
        "ann_model = create_model()"
      ],
      "execution_count": null,
      "outputs": []
    },
    {
      "cell_type": "code",
      "metadata": {
        "id": "3_JSjCbc_qfh",
        "outputId": "fb828b09-be6b-401b-a150-4ea8907a23a5",
        "colab": {
          "base_uri": "https://localhost:8080/",
          "height": 183
        }
      },
      "source": [
        "# Display a textual summary of the newly created model\n",
        "# Pay attention to size (a.k.a. total parameters) of the network\n",
        "print(ann_model)\n"
      ],
      "execution_count": null,
      "outputs": [
        {
          "output_type": "stream",
          "text": [
            "Sequential(\n",
            "  (hidden_layer_1): Linear(in_features=1, out_features=8, bias=True)\n",
            "  (hidden_layer_1_act): ReLU()\n",
            "  (hidden_layer_2): Linear(in_features=8, out_features=8, bias=True)\n",
            "  (hidden_layer_2_act): ReLU()\n",
            "  (output_layer): Linear(in_features=8, out_features=1, bias=True)\n",
            ")\n"
          ],
          "name": "stdout"
        }
      ]
    },
    {
      "cell_type": "code",
      "metadata": {
        "id": "R-vfOF-sFRLH",
        "outputId": "a9065544-4452-45b3-b79a-fa07fd29e5b0",
        "colab": {
          "base_uri": "https://localhost:8080/",
          "height": 54
        }
      },
      "source": [
        "print('params:', sum(p.numel() for p in ann_model.parameters()))\n",
        "print('trainable_params:', sum(p.numel() for p in ann_model.parameters() if p.requires_grad))"
      ],
      "execution_count": null,
      "outputs": [
        {
          "output_type": "stream",
          "text": [
            "params: 97\n",
            "trainable_params: 97\n"
          ],
          "name": "stdout"
        }
      ]
    },
    {
      "cell_type": "markdown",
      "metadata": {
        "id": "Ig8cHpbqjUtm"
      },
      "source": [
        "## Train the artificial neural-network model"
      ]
    },
    {
      "cell_type": "code",
      "metadata": {
        "id": "4-BOTCUiBiIu"
      },
      "source": [
        "# Object for storing training results (similar to Tensorflow object)\n",
        "class Results:\n",
        "\n",
        "    history = {\n",
        "        'train_loss': [],\n",
        "        'valid_loss': []\n",
        "    }"
      ],
      "execution_count": null,
      "outputs": []
    },
    {
      "cell_type": "code",
      "metadata": {
        "id": "JlMR_KRv-V0e"
      },
      "source": [
        "# No Pytorch model.fit() function as it is the case in Tensorflow\n",
        "# but we can implement it by ourselves.\n",
        "\n",
        "def fit(ann_model, X_train, Y_train, verbose=False,\n",
        "        batch_size=1, epochs=500, validation_test=None):\n",
        "\n",
        "  X_train  = torch.from_numpy(X_train).unsqueeze(1).float()\n",
        "  Y_train  = torch.from_numpy(Y_train).unsqueeze(1).float()\n",
        "\n",
        "  if validation_test != None:\n",
        "      X_valid =  torch.from_numpy(validation_test[0]).unsqueeze(1).float()\n",
        "      Y_valid =  torch.from_numpy(validation_test[1]).unsqueeze(1).float()\n",
        "\n",
        "  loss_fn = nn.MSELoss()\n",
        "  optimizer = optim.SGD(ann_model.parameters(), lr=0.02)\n",
        "\n",
        "  results = Results()\n",
        "  \n",
        "  for epoch in range(0, epochs):\n",
        "\n",
        "    Ŷ_train = ann_model(X_train)\n",
        "    train_loss = loss_fn(Ŷ_train, Y_train)\n",
        "    \n",
        "    if validation_test != None:\n",
        "        Ŷ_valid = ann_model(X_valid)\n",
        "        valid_loss = loss_fn(Ŷ_valid, Y_valid)\n",
        "\n",
        "    optimizer.zero_grad()\n",
        "    train_loss.backward()\n",
        "    optimizer.step()\n",
        "\n",
        "    results.history['train_loss'].append(float(train_loss))\n",
        "    if validation_test != None:\n",
        "        results.history['valid_loss'].append(float(valid_loss))\n",
        "\n",
        "    if verbose:\n",
        "      if epoch % 1000 == 0:\n",
        "        if validation_test != None:\n",
        "            print('epoch:%d, train_loss:%.3f, valid_loss:%.3f' \\\n",
        "              % (epoch, float(train_loss), float(valid_loss)))\n",
        "        else:\n",
        "            print('epoch:%d, train_loss:%.3f' \\\n",
        "              % (epoch, float(valid_loss)))\n",
        "    \n",
        "  return results"
      ],
      "execution_count": null,
      "outputs": []
    },
    {
      "cell_type": "code",
      "metadata": {
        "id": "pIODL1KXHw6V",
        "outputId": "4b898789-05cb-4f18-cf0c-65718b86e686",
        "colab": {
          "base_uri": "https://localhost:8080/",
          "height": 220
        }
      },
      "source": [
        "# Train the model with the input data and the output_values\n",
        "\n",
        "# validation_split=0.2 means that 20% of the X_train samples will be used\n",
        "# for a validation test and that \"only\" 80% will be used for training\n",
        "\n",
        "t0 = time.time()\n",
        "results = fit(ann_model, X_train, Y_train, verbose=True,\n",
        "              batch_size=1, epochs=4000, validation_test=(X_val, Y_val))\n",
        "t1 = time.time()\n",
        "print('training_%s' % get_duration(t0, t1))"
      ],
      "execution_count": null,
      "outputs": [
        {
          "output_type": "stream",
          "text": [
            "epoch:0, train_loss:21.784, valid_loss:19.622\n",
            "epoch:1000, train_loss:0.067, valid_loss:0.118\n",
            "epoch:2000, train_loss:0.038, valid_loss:0.065\n",
            "epoch:3000, train_loss:0.023, valid_loss:0.038\n",
            "training_duration: 00:00:02\n"
          ],
          "name": "stdout"
        }
      ]
    },
    {
      "cell_type": "code",
      "metadata": {
        "id": "Q_Hqk8Es-dKw",
        "outputId": "6eed6797-4d3b-47dd-ff15-5f384e81db50",
        "colab": {
          "base_uri": "https://localhost:8080/",
          "height": 265
        }
      },
      "source": [
        "plt.plot(results.history['train_loss'], label = 'train_loss')\n",
        "plt.plot(results.history['valid_loss'], label = 'validation_loss')\n",
        "plt.legend()\n",
        "plt.show()"
      ],
      "execution_count": null,
      "outputs": [
        {
          "output_type": "display_data",
          "data": {
            "image/png": "[encoded data removed]",
            "text/plain": [
              "<Figure size 432x288 with 1 Axes>"
            ]
          },
          "metadata": {
            "tags": [],
            "needs_background": "light"
          }
        }
      ]
    },
    {
      "cell_type": "markdown",
      "metadata": {
        "id": "kpNlaI9--ieU"
      },
      "source": [
        "## Evaluate the model"
      ]
    },
    {
      "cell_type": "code",
      "metadata": {
        "id": "ahPvbHaC-mTh",
        "outputId": "05d67224-b78b-4065-b30d-a62203497e47",
        "colab": {
          "base_uri": "https://localhost:8080/",
          "height": 35
        }
      },
      "source": [
        "# No Pytorch model.evaluate() function as it is the case in Tensorflow\n",
        "# but we can implement it by ourselves.\n",
        "\n",
        "def evaluate(ann_model, X_, Y_, verbose=False):\n",
        "  \n",
        "  X = torch.from_numpy(X_).unsqueeze(1).float()\n",
        "  Y = torch.from_numpy(Y_).unsqueeze(1).float()\n",
        "\n",
        "  Ŷ = ann_model(X)\n",
        "\n",
        "  # let's calculate the mean square error\n",
        "  # (could also be calculated with sklearn.metrics.mean_squared_error()\n",
        "  # or we could also calculate other errors like in 5% ok\n",
        "  mean_squared_error = torch.sum((Ŷ - Y) ** 2)/Y.shape[0]\n",
        "  if verbose:\n",
        "    print(\"mean_squared_error:%.3f\" % mean_squared_error)\n",
        "  return mean_squared_error\n",
        "\n",
        "test_loss = evaluate(ann_model, X_val, Y_val, verbose=True)"
      ],
      "execution_count": null,
      "outputs": [
        {
          "output_type": "stream",
          "text": [
            "mean_squared_error:0.022\n"
          ],
          "name": "stdout"
        }
      ]
    },
    {
      "cell_type": "code",
      "metadata": {
        "id": "wQTzq9mA-q6v"
      },
      "source": [
        "X_valt = torch.Tensor(X_val).unsqueeze(1).float()\n",
        "Ŷ_val = ann_model(X_valt).detach().numpy() "
      ],
      "execution_count": null,
      "outputs": []
    },
    {
      "cell_type": "markdown",
      "metadata": {
        "id": "Q7Pxkh-6-wdV"
      },
      "source": [
        "## Predict new output data"
      ]
    },
    {
      "cell_type": "code",
      "metadata": {
        "id": "1N7C1yOk-zfr",
        "outputId": "25a36949-f342-48d8-9854-372fd6858c3b",
        "colab": {
          "base_uri": "https://localhost:8080/",
          "height": 128
        }
      },
      "source": [
        "X_test = torch.Tensor([0., 0.2, 0.4, 0.6, 0.8, 1.0]).unsqueeze(1).float()\n",
        "Ŷ_test = ann_model(X_test).detach().numpy() \n",
        "Ŷ_test"
      ],
      "execution_count": null,
      "outputs": [
        {
          "output_type": "execute_result",
          "data": {
            "text/plain": [
              "array([[1.6358657],\n",
              "       [2.4185438],\n",
              "       [3.8183055],\n",
              "       [5.3982477],\n",
              "       [6.2121   ],\n",
              "       [6.02024  ]], dtype=float32)"
            ]
          },
          "metadata": {
            "tags": []
          },
          "execution_count": 19
        }
      ]
    },
    {
      "cell_type": "code",
      "metadata": {
        "id": "N3pZz6yv_Kh8",
        "outputId": "bb6dfceb-7dc3-4e60-e29b-43df964eb44e",
        "colab": {
          "base_uri": "https://localhost:8080/",
          "height": 295
        }
      },
      "source": [
        "# Display training data and predicted data graphically\n",
        "plt.title('Training data (green color) + Predicted data (red color)')\n",
        "\n",
        "# training data in green color\n",
        "plt.scatter(X_train, Y_train, color='green',  alpha=0.5)\n",
        "\n",
        "# validation data in blue color\n",
        "plt.scatter(X_val, Ŷ_val , color='blue',  alpha=0.5)\n",
        "\n",
        "# predicted data in blue color\n",
        "plt.scatter(X_test, Ŷ_test, color='red',  alpha=0.5)\n",
        "\n",
        "plt.xlabel('x')\n",
        "plt.ylabel('y')\n",
        "plt.show()"
      ],
      "execution_count": null,
      "outputs": [
        {
          "output_type": "display_data",
          "data": {
            "image/png": "[encoded data removed]",
            "text/plain": [
              "<Figure size 432x288 with 1 Axes>"
            ]
          },
          "metadata": {
            "tags": [],
            "needs_background": "light"
          }
        }
      ]
    },
    {
      "cell_type": "code",
      "metadata": {
        "id": "NwQ7IF3k-q6z"
      },
      "source": [
        ""
      ],
      "execution_count": null,
      "outputs": []
    }
  ]
}