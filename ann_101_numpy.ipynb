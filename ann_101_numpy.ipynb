{
  "nbformat": 4,
  "nbformat_minor": 0,
  "metadata": {
    "kernelspec": {
      "display_name": "Python 3",
      "language": "python",
      "name": "python3"
    },
    "language_info": {
      "codemirror_mode": {
        "name": "ipython",
        "version": 3
      },
      "file_extension": ".py",
      "mimetype": "text/x-python",
      "name": "python",
      "nbconvert_exporter": "python",
      "pygments_lexer": "ipython3",
      "version": "3.6.9"
    },
    "colab": {
      "name": "ann_101_numpy.ipynb",
      "provenance": []
    }
  },
  "cells": [
    {
      "cell_type": "markdown",
      "metadata": {
        "id": "6p8U6Qd15-y1",
        "colab_type": "text"
      },
      "source": [
        "## Import Python Librairies"
      ]
    },
    {
      "cell_type": "code",
      "metadata": {
        "id": "nwgSSb8y5-y6",
        "colab_type": "code",
        "colab": {}
      },
      "source": [
        "import numpy as np\n",
        "import matplotlib.pyplot as plt"
      ],
      "execution_count": 1,
      "outputs": []
    },
    {
      "cell_type": "markdown",
      "metadata": {
        "id": "KMyZPu-J5-zP",
        "colab_type": "text"
      },
      "source": [
        "## Get the data"
      ]
    },
    {
      "cell_type": "code",
      "metadata": {
        "id": "ItA87Kav5-zX",
        "colab_type": "code",
        "colab": {}
      },
      "source": [
        "X_train = np.array([0.765,0.838,0.329,0.277,0.45,0.833,0.44,0.634,0.351,0.784,0.589,0.816,0.352,0.591,0.04,0.38,0.816,0.732,0.32,0.597,0.908,0.146,0.691,0.75,0.568,0.866,0.705,0.027,0.607,0.793,0.864,0.057,0.877,0.164,0.729,0.291,0.324,0.745,0.158,0.098,0.113,0.794,0.452,0.765,0.983,0.001,0.474,0.773,0.155,0.875,])\n",
        "Y_train = np.array([6.322,6.254,3.224,2.87,4.177,6.267,4.088,5.737,3.379,6.334,5.381,6.306,3.389,5.4,1.704,3.602,6.306,6.254,3.157,5.446,5.918,2.147,6.088,6.298,5.204,6.147,6.153,1.653,5.527,6.332,6.156,1.766,6.098,2.236,6.244,2.96,3.183,6.287,2.205,1.934,1.996,6.331,4.188,6.322,5.368,1.561,4.383,6.33,2.192,6.108,])\n",
        "X_val = np.array([0.329,0.528,0.323,0.952,0.868,0.931,0.69,0.112,0.574,0.421,0.972,0.715,0.7,0.58,0.69,0.163,0.093,0.695,0.493,0.243,0.928,0.409,0.619,0.011,0.218,0.647,0.499,0.354,0.064,0.571,0.836,0.068,0.451,0.074,0.158,0.571,0.754,0.259,0.035,0.595,0.245,0.929,0.546,0.901,0.822,0.797,0.089,0.924,0.903,0.334,])\n",
        "Y_val = np.array([3.221,4.858,3.176,5.617,6.141,5.769,6.081,1.995,5.259,3.932,5.458,6.193,6.129,5.305,6.081,2.228,1.912,6.106,4.547,2.665,5.791,3.829,5.619,1.598,2.518,5.826,4.603,3.405,1.794,5.23,6.26,1.81,4.18,1.832,2.208,5.234,6.306,2.759,1.684,5.432,2.673,5.781,5.019,5.965,6.295,6.329,1.894,5.816,5.951,3.258,])"
      ],
      "execution_count": 2,
      "outputs": []
    },
    {
      "cell_type": "code",
      "metadata": {
        "id": "Yp1KFkRt5-zm",
        "colab_type": "code",
        "colab": {
          "base_uri": "https://localhost:8080/",
          "height": 295
        },
        "outputId": "22b78ef9-b7f3-47a9-ac49-c7dbe74e9267"
      },
      "source": [
        "# Graphically display our training data\n",
        "plt.scatter(X_train, Y_train, color='green', alpha=0.5)\n",
        "plt.title('Scatter plot of the training data')\n",
        "plt.xlabel('x')\n",
        "plt.ylabel('y')\n",
        "plt.show()"
      ],
      "execution_count": 3,
      "outputs": [
        {
          "output_type": "display_data",
          "data": {
            "image/png": "[encoded data removed]",
            "text/plain": [
              "<Figure size 432x288 with 1 Axes>"
            ]
          },
          "metadata": {
            "tags": [],
            "needs_background": "light"
          }
        }
      ]
    },
    {
      "cell_type": "code",
      "metadata": {
        "id": "NE-sRpaI5-z4",
        "colab_type": "code",
        "colab": {
          "base_uri": "https://localhost:8080/",
          "height": 295
        },
        "outputId": "8b3e044e-12b0-4575-c069-9920d862a226"
      },
      "source": [
        "# Graphically display our validation data\n",
        "plt.scatter(X_val, Y_val, color='blue', alpha=0.5)\n",
        "plt.title('Scatter plot of the validation data')\n",
        "plt.xlabel('x')\n",
        "plt.ylabel('y')\n",
        "plt.show()"
      ],
      "execution_count": 4,
      "outputs": [
        {
          "output_type": "display_data",
          "data": {
            "image/png": "[encoded data removed]",
            "text/plain": [
              "<Figure size 432x288 with 1 Axes>"
            ]
          },
          "metadata": {
            "tags": [],
            "needs_background": "light"
          }
        }
      ]
    },
    {
      "cell_type": "markdown",
      "metadata": {
        "id": "1kvlnc_X5-0T",
        "colab_type": "text"
      },
      "source": [
        "## Build the artificial neural-network"
      ]
    },
    {
      "cell_type": "code",
      "metadata": {
        "id": "gd_3obZd5-0Z",
        "colab_type": "code",
        "colab": {}
      },
      "source": [
        "ANN_ARCHITECTURE = [\n",
        "    {\"input_dim\": 1, \"output_dim\": 8, \"activation\": \"relu\"},\n",
        "    {\"input_dim\": 8, \"output_dim\": 8, \"activation\": \"relu\"},\n",
        "    {\"input_dim\": 8, \"output_dim\": 1, \"activation\": \"none\"},\n",
        "]"
      ],
      "execution_count": 5,
      "outputs": []
    },
    {
      "cell_type": "markdown",
      "metadata": {
        "id": "_kBJIFD38-Mp",
        "colab_type": "text"
      },
      "source": [
        "![ANN architecture](https://github.com/marxav/ann_101/blob/master/ann_101.png?raw=1)\n"
      ]
    },
    {
      "cell_type": "code",
      "metadata": {
        "id": "ULYeoeH-5-0r",
        "colab_type": "code",
        "colab": {}
      },
      "source": [
        "def init_parameters(ann_architecture):\n",
        "   \n",
        "    # number of layers in our neural network\n",
        "    number_of_layers = len(ann_architecture)\n",
        "    \n",
        "    # parameters storage initiation\n",
        "    params_values = {}\n",
        "    \n",
        "    # iteration over network layers\n",
        "    for idx, layer in enumerate(ann_architecture):\n",
        "        # we number network layers starting from 1\n",
        "        layer_idx = idx + 1\n",
        "        \n",
        "        # extracting the number of units in layers\n",
        "        layer_input_size = layer[\"input_dim\"]\n",
        "        layer_output_size = layer[\"output_dim\"]\n",
        "        \n",
        "        # initiating the values of the W matrix\n",
        "        # and vector b for subsequent layers\n",
        "        params_values['W' + str(layer_idx)] = np.random.randn(\n",
        "            layer_output_size, layer_input_size) * 0.1\n",
        "        params_values['b' + str(layer_idx)] = np.random.randn(\n",
        "            layer_output_size, 1) * 0.1\n",
        "        \n",
        "    return params_values"
      ],
      "execution_count": 6,
      "outputs": []
    },
    {
      "cell_type": "code",
      "metadata": {
        "id": "Kw5hxinS6Ic4",
        "colab_type": "code",
        "colab": {
          "base_uri": "https://localhost:8080/",
          "height": 807
        },
        "outputId": "c99160d9-a60f-4921-94b3-2aac7b6c90c4"
      },
      "source": [
        "# example of initialization values for our ANN\n",
        "init_parameters(ANN_ARCHITECTURE)"
      ],
      "execution_count": 7,
      "outputs": [
        {
          "output_type": "execute_result",
          "data": {
            "text/plain": [
              "{'W1': array([[-0.2784528 ],\n",
              "        [-0.01186467],\n",
              "        [-0.00436881],\n",
              "        [-0.13155714],\n",
              "        [-0.02982793],\n",
              "        [-0.10242546],\n",
              "        [-0.0776617 ],\n",
              "        [ 0.02167145]]),\n",
              " 'W2': array([[-0.18726738, -0.03220316, -0.01864439,  0.10070367,  0.20663061,\n",
              "          0.03388141,  0.00525522,  0.0432892 ],\n",
              "        [ 0.04752132, -0.0008049 , -0.00751127, -0.10826863,  0.04547642,\n",
              "         -0.00652547, -0.00535611, -0.00253358],\n",
              "        [-0.06985313, -0.02247548,  0.07478217, -0.03226828,  0.19978031,\n",
              "         -0.1223939 , -0.05103753, -0.04823519],\n",
              "        [-0.05410009, -0.01512827,  0.11109375, -0.04350089,  0.04012075,\n",
              "          0.15650151,  0.04146761,  0.05240325],\n",
              "        [-0.01844569,  0.0590349 , -0.15826169,  0.0175048 , -0.02842668,\n",
              "         -0.13884994,  0.10820847, -0.04193975],\n",
              "        [-0.00580444,  0.21978482,  0.13309251,  0.16625246, -0.10190348,\n",
              "         -0.15109677,  0.12174986, -0.06545059],\n",
              "        [ 0.06593122, -0.02403274, -0.00524143,  0.04573308,  0.18662304,\n",
              "          0.05151811, -0.01056951,  0.04956214],\n",
              "        [-0.22660673,  0.06851941, -0.13074356,  0.06285144,  0.11821412,\n",
              "          0.02599984,  0.02756706,  0.20519921]]),\n",
              " 'W3': array([[ 0.0122572 ,  0.04700634,  0.04549866, -0.10711507,  0.01904481,\n",
              "          0.01309748, -0.00688358, -0.09173311]]),\n",
              " 'b1': array([[ 0.07543335],\n",
              "        [ 0.12255516],\n",
              "        [-0.08015242],\n",
              "        [ 0.09938803],\n",
              "        [ 0.0434337 ],\n",
              "        [-0.23435678],\n",
              "        [-0.13918265],\n",
              "        [-0.17542875]]),\n",
              " 'b2': array([[-0.03607314],\n",
              "        [-0.13146363],\n",
              "        [-0.04538668],\n",
              "        [-0.01027323],\n",
              "        [-0.02741583],\n",
              "        [ 0.06632163],\n",
              "        [ 0.04459549],\n",
              "        [ 0.01216492]]),\n",
              " 'b3': array([[-0.01702732]])}"
            ]
          },
          "metadata": {
            "tags": []
          },
          "execution_count": 7
        }
      ]
    },
    {
      "cell_type": "code",
      "metadata": {
        "id": "qhYYy64W5-06",
        "colab_type": "code",
        "colab": {}
      },
      "source": [
        "def sigmoid(Z):\n",
        "    return 1/(1+np.exp(-Z))\n",
        "\n",
        "def relu(Z):\n",
        "    return np.maximum(0,Z)\n",
        "\n",
        "def sigmoid_backward(dA, Z):\n",
        "    sig = sigmoid(Z)\n",
        "    return dA * sig * (1 - sig)\n",
        "\n",
        "def relu_backward(dA, Z):\n",
        "    dZ = np.array(dA, copy = True)\n",
        "    dZ[Z <= 0] = 0;\n",
        "    return dZ;"
      ],
      "execution_count": 8,
      "outputs": []
    },
    {
      "cell_type": "markdown",
      "metadata": {
        "id": "02RwcYdi5-1D",
        "colab_type": "text"
      },
      "source": [
        "### Single layer forward propagation step"
      ]
    },
    {
      "cell_type": "markdown",
      "metadata": {
        "id": "0jqwnYlC5-1H",
        "colab_type": "text"
      },
      "source": [
        "$$\\boldsymbol{Z}^{[l]} = \\boldsymbol{W}^{[l]} \\cdot \\boldsymbol{A}^{[l-1]} + \\boldsymbol{b}^{[l]}$$"
      ]
    },
    {
      "cell_type": "markdown",
      "metadata": {
        "id": "1mzTAqQN5-1K",
        "colab_type": "text"
      },
      "source": [
        "$$\\boldsymbol{A}^{[l]} = g^{[l]}(\\boldsymbol{Z}^{[l]})$$"
      ]
    },
    {
      "cell_type": "code",
      "metadata": {
        "id": "Bjg-hId65-1L",
        "colab_type": "code",
        "colab": {}
      },
      "source": [
        "def single_layer_forward_propagation(A_prev, W_curr, b_curr, activation):\n",
        "    \n",
        "    # calculation of the input value for the activation function\n",
        "    Z_curr = np.dot(W_curr, A_prev) + b_curr\n",
        "    \n",
        "    # selection of activation function\n",
        "    if activation is \"none\":\n",
        "        return Z_curr, Z_curr\n",
        "    elif activation is \"relu\":\n",
        "        activation_func = relu\n",
        "    elif activation is \"sigmoid\":\n",
        "        activation_func = sigmoid\n",
        "    else:\n",
        "        raise Exception('Non-supported activation function')\n",
        "        \n",
        "    # return of calculated activation A and the intermediate Z matrix\n",
        "    return activation_func(Z_curr), Z_curr"
      ],
      "execution_count": 9,
      "outputs": []
    },
    {
      "cell_type": "code",
      "metadata": {
        "id": "8_GTvyJ45-1Y",
        "colab_type": "code",
        "colab": {}
      },
      "source": [
        "def full_forward_propagation(X, params_values, ann_architecture):\n",
        "    # creating a temporary memory to store the information needed for a backward step\n",
        "    memory = {}\n",
        "    # X vector is the activation for layer 0 \n",
        "    A_curr = X\n",
        "    \n",
        "    # iteration over network layers\n",
        "    for idx, layer in enumerate(ann_architecture):\n",
        "        # we number network layers starting from 1\n",
        "        layer_idx = idx + 1\n",
        "        # transfer the activation from the previous iteration\n",
        "        A_prev = A_curr\n",
        "        \n",
        "        # extraction of the activation function for the current layer\n",
        "        activ_function_curr = layer[\"activation\"]\n",
        "        \n",
        "        # extraction of W for the current layer\n",
        "        W_curr = params_values[\"W\" + str(layer_idx)]\n",
        "        # extraction of b for the current layer\n",
        "        b_curr = params_values[\"b\" + str(layer_idx)]\n",
        "        # calculation of activation for the current layer\n",
        "        A_curr, Z_curr = single_layer_forward_propagation(A_prev, W_curr, b_curr, activ_function_curr)\n",
        "        \n",
        "        # saving calculated values in the memory\n",
        "        memory[\"A\" + str(idx)] = A_prev\n",
        "        memory[\"Z\" + str(layer_idx)] = Z_curr\n",
        "       \n",
        "    # return of prediction vector and a dictionary containing intermediate values\n",
        "    return A_curr, memory"
      ],
      "execution_count": 10,
      "outputs": []
    },
    {
      "cell_type": "code",
      "metadata": {
        "id": "MLV7JlOD5-1j",
        "colab_type": "code",
        "colab": {}
      },
      "source": [
        "def get_cost_value(Y_hat, Y):\n",
        "    cost = Y_hat - Y\n",
        "    return np.squeeze(cost)"
      ],
      "execution_count": 11,
      "outputs": []
    },
    {
      "cell_type": "code",
      "metadata": {
        "id": "ead5c-ze5-12",
        "colab_type": "code",
        "colab": {}
      },
      "source": [
        "def single_layer_backward_propagation(dA_curr, W_curr, b_curr, Z_curr, A_prev, activation):\n",
        "    \n",
        "    # selection of activation function\n",
        "    if activation is \"none\":\n",
        "        backward_activation_func = relu_backward\n",
        "        \n",
        "        dZ_curr = dA_curr\n",
        "\n",
        "    else:\n",
        "        if activation is \"relu\":\n",
        "            backward_activation_func = relu_backward\n",
        "        elif activation is \"sigmoid\":\n",
        "            backward_activation_func = sigmoid_backward\n",
        "        else:\n",
        "            raise Exception('Non-supported activation function')\n",
        "        \n",
        "        # calculation of the activation function derivative\n",
        "        dZ_curr = backward_activation_func(dA_curr, Z_curr)\n",
        "\n",
        "    # derivative of the matrix W\n",
        "    dW_curr = np.dot(dZ_curr, A_prev.T)\n",
        "    \n",
        "    # derivative of the vector b\n",
        "    db_curr = np.sum(dZ_curr, axis=1, keepdims=True)\n",
        "    \n",
        "    # derivative of the matrix A_prev\n",
        "    dA_prev = np.dot(W_curr.T, dZ_curr)\n",
        "\n",
        "    return dA_prev, dW_curr, db_curr"
      ],
      "execution_count": 12,
      "outputs": []
    },
    {
      "cell_type": "code",
      "metadata": {
        "id": "dPJsDoxg5-2G",
        "colab_type": "code",
        "colab": {}
      },
      "source": [
        "def full_backward_propagation(Y_hat, Y, memory, params_values, ann_architecture):\n",
        "    \n",
        "    grads_values = {}\n",
        "    \n",
        "    # number of examples\n",
        "    m = Y.shape[1]\n",
        "    \n",
        "    # a hack ensuring the same shape of the prediction vector and labels vector\n",
        "    Y = Y.reshape(Y_hat.shape)\n",
        "    \n",
        "    # initiation of gradient descent algorithm\n",
        "    dA_prev = Y_hat - Y\n",
        "    \n",
        "    for layer_idx_prev, layer in reversed(list(enumerate(ann_architecture))):\n",
        "        \n",
        "        # we number network layers from 1\n",
        "        layer_idx_curr = layer_idx_prev + 1\n",
        "        \n",
        "        # extraction of the activation function for the current layer\n",
        "        activ_function_curr = layer[\"activation\"]    \n",
        "        \n",
        "        dA_curr = dA_prev\n",
        "        \n",
        "        A_prev = memory[\"A\" + str(layer_idx_prev)]\n",
        "        Z_curr = memory[\"Z\" + str(layer_idx_curr)]\n",
        "        \n",
        "        W_curr = params_values[\"W\" + str(layer_idx_curr)]\n",
        "        b_curr = params_values[\"b\" + str(layer_idx_curr)]\n",
        "        \n",
        "        dA_prev, dW_curr, db_curr = single_layer_backward_propagation(\n",
        "            dA_curr, W_curr, b_curr, Z_curr, A_prev, activ_function_curr)\n",
        "        \n",
        "        grads_values[\"dW\" + str(layer_idx_curr)] = dW_curr\n",
        "        grads_values[\"db\" + str(layer_idx_curr)] = db_curr\n",
        "    \n",
        "    return grads_values"
      ],
      "execution_count": 13,
      "outputs": []
    },
    {
      "cell_type": "code",
      "metadata": {
        "id": "sBDEJsKs5-2X",
        "colab_type": "code",
        "colab": {}
      },
      "source": [
        "def update(params_values, grads_values, ann_architecture, learning_rate, m):\n",
        "\n",
        "    # iteration over network layers\n",
        "    for layer_idx, layer in enumerate(ann_architecture, 1):\n",
        "        params_values[\"W\" + str(layer_idx)] -= learning_rate * grads_values[\"dW\" + str(layer_idx)] / m     \n",
        "        params_values[\"b\" + str(layer_idx)] -= learning_rate * grads_values[\"db\" + str(layer_idx)] / m\n",
        "\n",
        "    return params_values;"
      ],
      "execution_count": 14,
      "outputs": []
    },
    {
      "cell_type": "code",
      "metadata": {
        "id": "uEpJ0Bfp5-2m",
        "colab_type": "code",
        "colab": {}
      },
      "source": [
        "def train(X, Y, ann_architecture, params_values, learning_rate, verbose=False, callback=None):\n",
        "    # initiation of neural net parameters\n",
        "    \n",
        "    # initiation of lists storing the history \n",
        "    # of metrics calculated during the learning process \n",
        "    cost_history = []\n",
        "    \n",
        "    # performing calculations for subsequent iterations\n",
        "    Y_hat, memory = full_forward_propagation(X, params_values, ann_architecture)\n",
        "        \n",
        "    # calculating metrics and saving them in history\n",
        "    cost = get_cost_value(Y_hat, Y)\n",
        "    cost_history.append(cost)\n",
        "       \n",
        "    # step backward - calculating gradient\n",
        "    grads_values = full_backward_propagation(Y_hat, Y, memory, params_values, ann_architecture)\n",
        "    \n",
        "    # updating model state\n",
        "    m = X.shape[0] # m is number of samples in the batch\n",
        "    params_values = update(params_values, grads_values, ann_architecture, learning_rate, m)\n",
        "        \n",
        "    return params_values"
      ],
      "execution_count": 15,
      "outputs": []
    },
    {
      "cell_type": "code",
      "metadata": {
        "id": "L-WcNJGD5-22",
        "colab_type": "code",
        "colab": {}
      },
      "source": [
        "X_train = X_train.reshape(X_train.shape[0], 1)"
      ],
      "execution_count": 16,
      "outputs": []
    },
    {
      "cell_type": "code",
      "metadata": {
        "id": "xyBb2Tom5-3G",
        "colab_type": "code",
        "colab": {}
      },
      "source": [
        "Y_train = Y_train.reshape(Y_train.shape[0], 1)"
      ],
      "execution_count": 17,
      "outputs": []
    },
    {
      "cell_type": "markdown",
      "metadata": {
        "id": "3EwF5oQQ5-3T",
        "colab_type": "text"
      },
      "source": [
        "## Train the artificial neural-network model"
      ]
    },
    {
      "cell_type": "code",
      "metadata": {
        "id": "gLExhKBU5-3W",
        "colab_type": "code",
        "colab": {}
      },
      "source": [
        "# Training\n",
        "params_values = init_parameters(ANN_ARCHITECTURE)\n",
        "\n",
        "# implementation of the stochastic gradient descent\n",
        "EPOCHS = 2000\n",
        "for epoch in range(EPOCHS):\n",
        "    samples_per_batch = 1\n",
        "    \n",
        "    for i in range(int(X_train.shape[0]/samples_per_batch)):\n",
        "        si = i * samples_per_batch\n",
        "        sj = (i + 1) * samples_per_batch\n",
        "\n",
        "        params_values = train(\n",
        "            np.transpose(X_train[si:sj]), \n",
        "            np.transpose(Y_train[si:sj]),\n",
        "            ANN_ARCHITECTURE, \n",
        "            params_values, \n",
        "            0.02) "
      ],
      "execution_count": 18,
      "outputs": []
    },
    {
      "cell_type": "code",
      "metadata": {
        "id": "D-TVvpC_5-3k",
        "colab_type": "code",
        "colab": {}
      },
      "source": [
        "# Prediction\n",
        "Ŷ_train, _ = full_forward_propagation(np.transpose(X_train), params_values, ANN_ARCHITECTURE)"
      ],
      "execution_count": 19,
      "outputs": []
    },
    {
      "cell_type": "code",
      "metadata": {
        "id": "mO815PIh5-3u",
        "colab_type": "code",
        "colab": {
          "base_uri": "https://localhost:8080/",
          "height": 35
        },
        "outputId": "cc95b8fc-dcf9-4d09-ba48-c2bce6edea5f"
      },
      "source": [
        "# Accuracy achieved on the test set\n",
        "cost_train = get_cost_value(Ŷ_train, np.transpose(Y_train.reshape((Y_train.shape[0], 1))))\n",
        "cost_train.mean()"
      ],
      "execution_count": 20,
      "outputs": [
        {
          "output_type": "execute_result",
          "data": {
            "text/plain": [
              "0.0014669142702457628"
            ]
          },
          "metadata": {
            "tags": []
          },
          "execution_count": 20
        }
      ]
    },
    {
      "cell_type": "markdown",
      "metadata": {
        "id": "iD7XCUZ35-36",
        "colab_type": "text"
      },
      "source": [
        "## Evaluate the model"
      ]
    },
    {
      "cell_type": "code",
      "metadata": {
        "id": "RSA84cyG5-3-",
        "colab_type": "code",
        "colab": {
          "base_uri": "https://localhost:8080/",
          "height": 201
        },
        "outputId": "2c9bf949-0b38-4cfa-e458-60faab8eedf8"
      },
      "source": [
        "X_val = X_val.reshape(X_val.shape[0], 1)\n",
        "Ŷ_val, _ = full_forward_propagation(np.transpose(X_val), params_values, ANN_ARCHITECTURE)\n",
        "Ŷ_val"
      ],
      "execution_count": 21,
      "outputs": [
        {
          "output_type": "execute_result",
          "data": {
            "text/plain": [
              "array([[3.18480898, 4.84070396, 3.15062425, 5.65609333, 6.1337356 ,\n",
              "        5.7755039 , 6.14281306, 1.94846122, 5.23008196, 3.93497689,\n",
              "        5.54236898, 6.19651203, 6.16429265, 5.28087039, 6.14281306,\n",
              "        2.23903143, 1.84020957, 6.15355285, 4.5444381 , 2.69482784,\n",
              "        5.79256255, 3.83340002, 5.61099522, 1.66146095, 2.55239146,\n",
              "        5.84800791, 4.59522653, 3.36783937, 1.68037929, 5.20468774,\n",
              "        6.31569456, 1.69777319, 4.18891906, 1.73195792, 2.21054415,\n",
              "        5.20468774, 6.28028243, 2.78598712, 1.67002775, 5.40784148,\n",
              "        2.70622275, 5.78687633, 4.99306927, 5.94609042, 6.3953016 ,\n",
              "        6.37264467, 1.81741975, 5.81530742, 5.93471799, 3.21329626]])"
            ]
          },
          "metadata": {
            "tags": []
          },
          "execution_count": 21
        }
      ]
    },
    {
      "cell_type": "markdown",
      "metadata": {
        "id": "X0wAcK-f5-4J",
        "colab_type": "text"
      },
      "source": [
        "## Infer new output data"
      ]
    },
    {
      "cell_type": "code",
      "metadata": {
        "id": "1NIkuawf5-4K",
        "colab_type": "code",
        "colab": {
          "base_uri": "https://localhost:8080/",
          "height": 54
        },
        "outputId": "22558030-f7ef-474b-c295-05ab19c60c23"
      },
      "source": [
        "X_test = np.array([0., 0.2, 0.4, 0.6, 0.8, 1.0])\n",
        "X_test = X_test.reshape(X_test.shape[0], 1)\n",
        "Ŷ_test, _ = full_forward_propagation(np.transpose(X_test), params_values, ANN_ARCHITECTURE)\n",
        "Ŷ_test"
      ],
      "execution_count": 22,
      "outputs": [
        {
          "output_type": "execute_result",
          "data": {
            "text/plain": [
              "array([[1.6575345 , 2.44983727, 3.75721737, 5.45016518, 6.37908855,\n",
              "        5.3831549 ]])"
            ]
          },
          "metadata": {
            "tags": []
          },
          "execution_count": 22
        }
      ]
    },
    {
      "cell_type": "code",
      "metadata": {
        "id": "sRRDHGTf5-4W",
        "colab_type": "code",
        "colab": {
          "base_uri": "https://localhost:8080/",
          "height": 295
        },
        "outputId": "527caeaa-a3ff-4ae3-c5a4-ac54ec4cdb83"
      },
      "source": [
        "# Display training data and predicted data graphically\n",
        "plt.title('Training data (green color) + Predicted data (red color)')\n",
        "\n",
        "# training data in green color\n",
        "plt.scatter(X_train, Y_train, color='green',  alpha=0.5)\n",
        "\n",
        "# validation data in blue color\n",
        "plt.scatter(X_val, Ŷ_val, color='blue',  alpha=0.5)\n",
        "\n",
        "# predicted data in red color\n",
        "plt.scatter(X_test, Ŷ_test, color='red',  alpha=0.5)\n",
        "\n",
        "plt.xlabel('x')\n",
        "plt.ylabel('y')\n",
        "plt.show()"
      ],
      "execution_count": 23,
      "outputs": [
        {
          "output_type": "display_data",
          "data": {
            "image/png": "[encoded data removed]",
            "text/plain": [
              "<Figure size 432x288 with 1 Axes>"
            ]
          },
          "metadata": {
            "tags": [],
            "needs_background": "light"
          }
        }
      ]
    }
  ]
}