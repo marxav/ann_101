{
  "nbformat": 4,
  "nbformat_minor": 0,
  "metadata": {
    "kernelspec": {
      "display_name": "Python 3",
      "language": "python",
      "name": "python3"
    },
    "language_info": {
      "codemirror_mode": {
        "name": "ipython",
        "version": 3
      },
      "file_extension": ".py",
      "mimetype": "text/x-python",
      "name": "python",
      "nbconvert_exporter": "python",
      "pygments_lexer": "ipython3",
      "version": "3.6.9"
    },
    "colab": {
      "name": "ann_101_numpy.ipynb",
      "provenance": []
    }
  },
  "cells": [
    {
      "cell_type": "markdown",
      "metadata": {
        "id": "6p8U6Qd15-y1",
        "colab_type": "text"
      },
      "source": [
        "## Import Python Librairies"
      ]
    },
    {
      "cell_type": "code",
      "metadata": {
        "id": "nwgSSb8y5-y6",
        "colab_type": "code",
        "colab": {}
      },
      "source": [
        "import numpy as np\n",
        "import matplotlib.pyplot as plt"
      ],
      "execution_count": 1,
      "outputs": []
    },
    {
      "cell_type": "markdown",
      "metadata": {
        "id": "KMyZPu-J5-zP",
        "colab_type": "text"
      },
      "source": [
        "## Get the data"
      ]
    },
    {
      "cell_type": "code",
      "metadata": {
        "id": "ItA87Kav5-zX",
        "colab_type": "code",
        "colab": {}
      },
      "source": [
        "X_train = np.array([0.765,0.838,0.329,0.277,0.45,0.833,0.44,0.634,0.351,0.784,0.589,0.816,0.352,0.591,0.04,0.38,0.816,0.732,0.32,0.597,0.908,0.146,0.691,0.75,0.568,0.866,0.705,0.027,0.607,0.793,0.864,0.057,0.877,0.164,0.729,0.291,0.324,0.745,0.158,0.098,0.113,0.794,0.452,0.765,0.983,0.001,0.474,0.773,0.155,0.875,])\n",
        "Y_train = np.array([6.322,6.254,3.224,2.87,4.177,6.267,4.088,5.737,3.379,6.334,5.381,6.306,3.389,5.4,1.704,3.602,6.306,6.254,3.157,5.446,5.918,2.147,6.088,6.298,5.204,6.147,6.153,1.653,5.527,6.332,6.156,1.766,6.098,2.236,6.244,2.96,3.183,6.287,2.205,1.934,1.996,6.331,4.188,6.322,5.368,1.561,4.383,6.33,2.192,6.108,])\n",
        "X_val = np.array([0.329,0.528,0.323,0.952,0.868,0.931,0.69,0.112,0.574,0.421,0.972,0.715,0.7,0.58,0.69,0.163,0.093,0.695,0.493,0.243,0.928,0.409,0.619,0.011,0.218,0.647,0.499,0.354,0.064,0.571,0.836,0.068,0.451,0.074,0.158,0.571,0.754,0.259,0.035,0.595,0.245,0.929,0.546,0.901,0.822,0.797,0.089,0.924,0.903,0.334,])\n",
        "Y_val = np.array([3.221,4.858,3.176,5.617,6.141,5.769,6.081,1.995,5.259,3.932,5.458,6.193,6.129,5.305,6.081,2.228,1.912,6.106,4.547,2.665,5.791,3.829,5.619,1.598,2.518,5.826,4.603,3.405,1.794,5.23,6.26,1.81,4.18,1.832,2.208,5.234,6.306,2.759,1.684,5.432,2.673,5.781,5.019,5.965,6.295,6.329,1.894,5.816,5.951,3.258,])"
      ],
      "execution_count": 2,
      "outputs": []
    },
    {
      "cell_type": "code",
      "metadata": {
        "id": "Yp1KFkRt5-zm",
        "colab_type": "code",
        "colab": {
          "base_uri": "https://localhost:8080/",
          "height": 295
        },
        "outputId": "0a4cf813-065f-4e4c-b2b2-76272898159c"
      },
      "source": [
        "# Graphically display our training data\n",
        "plt.scatter(X_train, Y_train, color='green', alpha=0.5)\n",
        "plt.title('Scatter plot of the training data')\n",
        "plt.xlabel('x')\n",
        "plt.ylabel('y')\n",
        "plt.show()"
      ],
      "execution_count": 3,
      "outputs": [
        {
          "output_type": "display_data",
          "data": {
            "image/png": "[encoded data removed]",
            "text/plain": [
              "<Figure size 432x288 with 1 Axes>"
            ]
          },
          "metadata": {
            "tags": [],
            "needs_background": "light"
          }
        }
      ]
    },
    {
      "cell_type": "code",
      "metadata": {
        "id": "NE-sRpaI5-z4",
        "colab_type": "code",
        "colab": {
          "base_uri": "https://localhost:8080/",
          "height": 295
        },
        "outputId": "98c9620f-bdd2-4949-8608-c006c7827780"
      },
      "source": [
        "# Graphically display our validation data\n",
        "plt.scatter(X_val, Y_val, color='blue', alpha=0.5)\n",
        "plt.title('Scatter plot of the validation data')\n",
        "plt.xlabel('x')\n",
        "plt.ylabel('y')\n",
        "plt.show()"
      ],
      "execution_count": 4,
      "outputs": [
        {
          "output_type": "display_data",
          "data": {
            "image/png": "[encoded data removed]",
            "text/plain": [
              "<Figure size 432x288 with 1 Axes>"
            ]
          },
          "metadata": {
            "tags": [],
            "needs_background": "light"
          }
        }
      ]
    },
    {
      "cell_type": "markdown",
      "metadata": {
        "id": "1kvlnc_X5-0T",
        "colab_type": "text"
      },
      "source": [
        "## Build the artificial neural-network"
      ]
    },
    {
      "cell_type": "code",
      "metadata": {
        "id": "gd_3obZd5-0Z",
        "colab_type": "code",
        "colab": {}
      },
      "source": [
        "ANN_ARCHITECTURE = [\n",
        "    {\"input_dim\": 1, \"output_dim\": 8, \"activation\": \"relu\"},\n",
        "    {\"input_dim\": 8, \"output_dim\": 8, \"activation\": \"relu\"},\n",
        "    {\"input_dim\": 8, \"output_dim\": 1, \"activation\": \"none\"},\n",
        "]"
      ],
      "execution_count": 5,
      "outputs": []
    },
    {
      "cell_type": "code",
      "metadata": {
        "id": "ULYeoeH-5-0r",
        "colab_type": "code",
        "colab": {}
      },
      "source": [
        "def init_parameters(ann_architecture):\n",
        "   \n",
        "    # number of layers in our neural network\n",
        "    number_of_layers = len(ann_architecture)\n",
        "    \n",
        "    # parameters storage initiation\n",
        "    params_values = {}\n",
        "    \n",
        "    # iteration over network layers\n",
        "    for idx, layer in enumerate(ann_architecture):\n",
        "        # we number network layers starting from 1\n",
        "        layer_idx = idx + 1\n",
        "        \n",
        "        # extracting the number of units in layers\n",
        "        layer_input_size = layer[\"input_dim\"]\n",
        "        layer_output_size = layer[\"output_dim\"]\n",
        "        \n",
        "        # initiating the values of the W matrix\n",
        "        # and vector b for subsequent layers\n",
        "        params_values['W' + str(layer_idx)] = np.random.randn(\n",
        "            layer_output_size, layer_input_size) * 0.1\n",
        "        params_values['b' + str(layer_idx)] = np.random.randn(\n",
        "            layer_output_size, 1) * 0.1\n",
        "        \n",
        "    return params_values"
      ],
      "execution_count": 6,
      "outputs": []
    },
    {
      "cell_type": "code",
      "metadata": {
        "id": "Kw5hxinS6Ic4",
        "colab_type": "code",
        "colab": {
          "base_uri": "https://localhost:8080/",
          "height": 748
        },
        "outputId": "45a45d1d-f825-44c5-91dc-ca5576dd428c"
      },
      "source": [
        "# example of initialization values for our ANN\n",
        "init_parameters(ANN_ARCHITECTURE)"
      ],
      "execution_count": 7,
      "outputs": [
        {
          "output_type": "execute_result",
          "data": {
            "text/plain": [
              "{'W1': array([[-0.04077589],\n",
              "        [ 0.01896569],\n",
              "        [-0.01011511],\n",
              "        [ 0.02079623],\n",
              "        [-0.07524282],\n",
              "        [ 0.12778067],\n",
              "        [ 0.13202041],\n",
              "        [-0.04117426]]),\n",
              " 'W2': array([[ 0.0791957 ,  0.08243275,  0.15879588,  0.11990401, -0.07014985,\n",
              "         -0.02482242,  0.16886673, -0.08903376],\n",
              "        [ 0.01392275, -0.01771445, -0.12508618,  0.18986944,  0.01669707,\n",
              "         -0.10363535, -0.01921987, -0.00055818],\n",
              "        [ 0.01263989, -0.0679067 ,  0.03571719, -0.10675841, -0.05155271,\n",
              "         -0.04488211, -0.01398208,  0.01962919],\n",
              "        [ 0.01957099, -0.03173863, -0.13024884, -0.02455504,  0.00499327,\n",
              "          0.06552743,  0.05525811, -0.03072247],\n",
              "        [-0.07803319,  0.08987627, -0.02653171,  0.08696042, -0.03789959,\n",
              "         -0.16696337,  0.0636652 , -0.0225176 ],\n",
              "        [ 0.05141454,  0.11415895,  0.0295589 , -0.10082728, -0.05522031,\n",
              "         -0.05679801, -0.23986219,  0.02388214],\n",
              "        [-0.01726129, -0.05344209, -0.16345387, -0.23206262,  0.06608812,\n",
              "          0.02260009,  0.12454344, -0.04493001],\n",
              "        [-0.04045108, -0.09117573, -0.12297524,  0.00375212,  0.21513591,\n",
              "          0.0609881 , -0.07357166, -0.14077389]]),\n",
              " 'W3': array([[ 0.15436113,  0.011068  ,  0.12662251, -0.14241237,  0.08493154,\n",
              "          0.11935151,  0.04355218, -0.07294571]]),\n",
              " 'b1': array([[-0.06985877],\n",
              "        [ 0.14215474],\n",
              "        [-0.08702838],\n",
              "        [ 0.08183619],\n",
              "        [ 0.08935209],\n",
              "        [-0.14232286],\n",
              "        [-0.02427298],\n",
              "        [ 0.12705217]]),\n",
              " 'b2': array([[-0.12800537],\n",
              "        [-0.05072155],\n",
              "        [-0.26207757],\n",
              "        [ 0.02885595],\n",
              "        [ 0.06403292],\n",
              "        [-0.18138911],\n",
              "        [-0.07958318],\n",
              "        [ 0.21019632]]),\n",
              " 'b3': array([[0.15221011]])}"
            ]
          },
          "metadata": {
            "tags": []
          },
          "execution_count": 7
        }
      ]
    },
    {
      "cell_type": "code",
      "metadata": {
        "id": "qhYYy64W5-06",
        "colab_type": "code",
        "colab": {}
      },
      "source": [
        "def sigmoid(Z):\n",
        "    return 1/(1+np.exp(-Z))\n",
        "\n",
        "def relu(Z):\n",
        "    return np.maximum(0,Z)\n",
        "\n",
        "def sigmoid_backward(dA, Z):\n",
        "    sig = sigmoid(Z)\n",
        "    return dA * sig * (1 - sig)\n",
        "\n",
        "def relu_backward(dA, Z):\n",
        "    dZ = np.array(dA, copy = True)\n",
        "    dZ[Z <= 0] = 0;\n",
        "    return dZ;"
      ],
      "execution_count": 8,
      "outputs": []
    },
    {
      "cell_type": "markdown",
      "metadata": {
        "id": "02RwcYdi5-1D",
        "colab_type": "text"
      },
      "source": [
        "### Single layer forward propagation step"
      ]
    },
    {
      "cell_type": "markdown",
      "metadata": {
        "id": "0jqwnYlC5-1H",
        "colab_type": "text"
      },
      "source": [
        "$$\\boldsymbol{Z}^{[l]} = \\boldsymbol{W}^{[l]} \\cdot \\boldsymbol{A}^{[l-1]} + \\boldsymbol{b}^{[l]}$$"
      ]
    },
    {
      "cell_type": "markdown",
      "metadata": {
        "id": "1mzTAqQN5-1K",
        "colab_type": "text"
      },
      "source": [
        "$$\\boldsymbol{A}^{[l]} = g^{[l]}(\\boldsymbol{Z}^{[l]})$$"
      ]
    },
    {
      "cell_type": "code",
      "metadata": {
        "id": "Bjg-hId65-1L",
        "colab_type": "code",
        "colab": {}
      },
      "source": [
        "def single_layer_forward_propagation(A_prev, W_curr, b_curr, activation):\n",
        "    \n",
        "    # calculation of the input value for the activation function\n",
        "    Z_curr = np.dot(W_curr, A_prev) + b_curr\n",
        "    \n",
        "    # selection of activation function\n",
        "    if activation is \"none\":\n",
        "        return Z_curr, Z_curr\n",
        "    elif activation is \"relu\":\n",
        "        activation_func = relu\n",
        "    elif activation is \"sigmoid\":\n",
        "        activation_func = sigmoid\n",
        "    else:\n",
        "        raise Exception('Non-supported activation function')\n",
        "        \n",
        "    # return of calculated activation A and the intermediate Z matrix\n",
        "    return activation_func(Z_curr), Z_curr"
      ],
      "execution_count": 9,
      "outputs": []
    },
    {
      "cell_type": "code",
      "metadata": {
        "id": "8_GTvyJ45-1Y",
        "colab_type": "code",
        "colab": {}
      },
      "source": [
        "def full_forward_propagation(X, params_values, ann_architecture):\n",
        "    # creating a temporary memory to store the information needed for a backward step\n",
        "    memory = {}\n",
        "    # X vector is the activation for layer 0 \n",
        "    A_curr = X\n",
        "    \n",
        "    # iteration over network layers\n",
        "    for idx, layer in enumerate(ann_architecture):\n",
        "        # we number network layers starting from 1\n",
        "        layer_idx = idx + 1\n",
        "        # transfer the activation from the previous iteration\n",
        "        A_prev = A_curr\n",
        "        \n",
        "        # extraction of the activation function for the current layer\n",
        "        activ_function_curr = layer[\"activation\"]\n",
        "        \n",
        "        # extraction of W for the current layer\n",
        "        W_curr = params_values[\"W\" + str(layer_idx)]\n",
        "        # extraction of b for the current layer\n",
        "        b_curr = params_values[\"b\" + str(layer_idx)]\n",
        "        # calculation of activation for the current layer\n",
        "        A_curr, Z_curr = single_layer_forward_propagation(A_prev, W_curr, b_curr, activ_function_curr)\n",
        "        \n",
        "        # saving calculated values in the memory\n",
        "        memory[\"A\" + str(idx)] = A_prev\n",
        "        memory[\"Z\" + str(layer_idx)] = Z_curr\n",
        "       \n",
        "    # return of prediction vector and a dictionary containing intermediate values\n",
        "    return A_curr, memory"
      ],
      "execution_count": 10,
      "outputs": []
    },
    {
      "cell_type": "code",
      "metadata": {
        "id": "MLV7JlOD5-1j",
        "colab_type": "code",
        "colab": {}
      },
      "source": [
        "def get_cost_value(Y_hat, Y):\n",
        "    return np.square(np.subtract(Y_hat,Y)).mean()"
      ],
      "execution_count": 11,
      "outputs": []
    },
    {
      "cell_type": "code",
      "metadata": {
        "id": "ead5c-ze5-12",
        "colab_type": "code",
        "colab": {}
      },
      "source": [
        "def single_layer_backward_propagation(dA_curr, W_curr, b_curr, Z_curr, A_prev, activation):\n",
        "    \n",
        "    # selection of activation function\n",
        "    if activation is \"none\":\n",
        "        backward_activation_func = relu_backward\n",
        "        \n",
        "        dZ_curr = dA_curr\n",
        "\n",
        "    else:\n",
        "        if activation is \"relu\":\n",
        "            backward_activation_func = relu_backward\n",
        "        elif activation is \"sigmoid\":\n",
        "            backward_activation_func = sigmoid_backward\n",
        "        else:\n",
        "            raise Exception('Non-supported activation function')\n",
        "        \n",
        "        # calculation of the activation function derivative\n",
        "        dZ_curr = backward_activation_func(dA_curr, Z_curr)\n",
        "\n",
        "    # derivative of the matrix W\n",
        "    dW_curr = np.dot(dZ_curr, A_prev.T)\n",
        "    \n",
        "    # derivative of the vector b\n",
        "    db_curr = np.sum(dZ_curr, axis=1, keepdims=True)\n",
        "    \n",
        "    # derivative of the matrix A_prev\n",
        "    dA_prev = np.dot(W_curr.T, dZ_curr)\n",
        "\n",
        "    return dA_prev, dW_curr, db_curr"
      ],
      "execution_count": 12,
      "outputs": []
    },
    {
      "cell_type": "code",
      "metadata": {
        "id": "dPJsDoxg5-2G",
        "colab_type": "code",
        "colab": {}
      },
      "source": [
        "def full_backward_propagation(Y_hat, Y, memory, params_values, ann_architecture):\n",
        "    \n",
        "    grads_values = {}\n",
        "    \n",
        "    # number of examples\n",
        "    m = Y.shape[1]\n",
        "    \n",
        "    # a hack ensuring the same shape of the prediction vector and labels vector\n",
        "    Y = Y.reshape(Y_hat.shape)\n",
        "    \n",
        "    # initiation of gradient descent algorithm\n",
        "    dA_prev = Y_hat - Y\n",
        "    \n",
        "    for layer_idx_prev, layer in reversed(list(enumerate(ann_architecture))):\n",
        "        \n",
        "        # we number network layers from 1\n",
        "        layer_idx_curr = layer_idx_prev + 1\n",
        "        \n",
        "        # extraction of the activation function for the current layer\n",
        "        activ_function_curr = layer[\"activation\"]    \n",
        "        \n",
        "        dA_curr = dA_prev\n",
        "        \n",
        "        A_prev = memory[\"A\" + str(layer_idx_prev)]\n",
        "        Z_curr = memory[\"Z\" + str(layer_idx_curr)]\n",
        "        \n",
        "        W_curr = params_values[\"W\" + str(layer_idx_curr)]\n",
        "        b_curr = params_values[\"b\" + str(layer_idx_curr)]\n",
        "        \n",
        "        dA_prev, dW_curr, db_curr = single_layer_backward_propagation(\n",
        "            dA_curr, W_curr, b_curr, Z_curr, A_prev, activ_function_curr)\n",
        "        \n",
        "        grads_values[\"dW\" + str(layer_idx_curr)] = dW_curr\n",
        "        grads_values[\"db\" + str(layer_idx_curr)] = db_curr\n",
        "    \n",
        "    return grads_values"
      ],
      "execution_count": 13,
      "outputs": []
    },
    {
      "cell_type": "code",
      "metadata": {
        "id": "sBDEJsKs5-2X",
        "colab_type": "code",
        "colab": {}
      },
      "source": [
        "def update(params_values, grads_values, ann_architecture, learning_rate, m):\n",
        "\n",
        "    # iteration over network layers\n",
        "    for layer_idx, layer in enumerate(ann_architecture, 1):\n",
        "        params_values[\"W\" + str(layer_idx)] -= learning_rate * grads_values[\"dW\" + str(layer_idx)] / m     \n",
        "        params_values[\"b\" + str(layer_idx)] -= learning_rate * grads_values[\"db\" + str(layer_idx)] / m\n",
        "\n",
        "    return params_values;"
      ],
      "execution_count": 14,
      "outputs": []
    },
    {
      "cell_type": "code",
      "metadata": {
        "id": "uEpJ0Bfp5-2m",
        "colab_type": "code",
        "colab": {}
      },
      "source": [
        "def train(X, Y, ann_architecture, params_values, learning_rate, verbose=False, callback=None):\n",
        "    # initiation of neural net parameters\n",
        "    \n",
        "    # initiation of lists storing the history \n",
        "    # of metrics calculated during the learning process \n",
        "    cost_history = []\n",
        "    \n",
        "    # performing calculations for subsequent iterations\n",
        "    Y_hat, memory = full_forward_propagation(X, params_values, ann_architecture)\n",
        "        \n",
        "    # calculating metrics and saving them in history\n",
        "    cost = get_cost_value(Y_hat, Y)\n",
        "    cost_history.append(cost)\n",
        "       \n",
        "    # step backward - calculating gradient\n",
        "    grads_values = full_backward_propagation(Y_hat, Y, memory, params_values, ann_architecture)\n",
        "    \n",
        "    # updating model state\n",
        "    m = X.shape[0] # m is number of samples in the batch\n",
        "    params_values = update(params_values, grads_values, ann_architecture, learning_rate, m)\n",
        "        \n",
        "    return params_values"
      ],
      "execution_count": 15,
      "outputs": []
    },
    {
      "cell_type": "code",
      "metadata": {
        "id": "L-WcNJGD5-22",
        "colab_type": "code",
        "colab": {}
      },
      "source": [
        "X_train = X_train.reshape(X_train.shape[0], 1)"
      ],
      "execution_count": 16,
      "outputs": []
    },
    {
      "cell_type": "code",
      "metadata": {
        "id": "xyBb2Tom5-3G",
        "colab_type": "code",
        "colab": {}
      },
      "source": [
        "Y_train = Y_train.reshape(Y_train.shape[0], 1)"
      ],
      "execution_count": 17,
      "outputs": []
    },
    {
      "cell_type": "markdown",
      "metadata": {
        "id": "3EwF5oQQ5-3T",
        "colab_type": "text"
      },
      "source": [
        "## Train the artificial neural-network model"
      ]
    },
    {
      "cell_type": "code",
      "metadata": {
        "id": "gLExhKBU5-3W",
        "colab_type": "code",
        "colab": {}
      },
      "source": [
        "# Training\n",
        "params_values = init_parameters(ANN_ARCHITECTURE)\n",
        "\n",
        "# implementation of the stochastic gradient descent\n",
        "EPOCHS = 2000\n",
        "for epoch in range(EPOCHS):\n",
        "    samples_per_batch = 1\n",
        "    \n",
        "    for i in range(int(X_train.shape[0]/samples_per_batch)):\n",
        "        si = i * samples_per_batch\n",
        "        sj = (i + 1) * samples_per_batch\n",
        "\n",
        "        params_values = train(\n",
        "            np.transpose(X_train[si:sj]), \n",
        "            np.transpose(Y_train[si:sj]),\n",
        "            ANN_ARCHITECTURE, \n",
        "            params_values, \n",
        "            0.02) "
      ],
      "execution_count": 18,
      "outputs": []
    },
    {
      "cell_type": "code",
      "metadata": {
        "id": "D-TVvpC_5-3k",
        "colab_type": "code",
        "colab": {}
      },
      "source": [
        "# Prediction\n",
        "Ŷ_train, _ = full_forward_propagation(np.transpose(X_train), params_values, ANN_ARCHITECTURE)"
      ],
      "execution_count": 19,
      "outputs": []
    },
    {
      "cell_type": "code",
      "metadata": {
        "id": "mO815PIh5-3u",
        "colab_type": "code",
        "colab": {
          "base_uri": "https://localhost:8080/",
          "height": 34
        },
        "outputId": "3ffa6e4c-5be7-4fe3-be69-956cdd5dc329"
      },
      "source": [
        "# Accuracy achieved on the test set\n",
        "cost_train = get_cost_value(Ŷ_train, np.transpose(Y_train.reshape((Y_train.shape[0], 1))))\n",
        "cost_train.mean()"
      ],
      "execution_count": 20,
      "outputs": [
        {
          "output_type": "execute_result",
          "data": {
            "text/plain": [
              "0.0002387164584338726"
            ]
          },
          "metadata": {
            "tags": []
          },
          "execution_count": 20
        }
      ]
    },
    {
      "cell_type": "markdown",
      "metadata": {
        "id": "iD7XCUZ35-36",
        "colab_type": "text"
      },
      "source": [
        "## Evaluate the model"
      ]
    },
    {
      "cell_type": "code",
      "metadata": {
        "id": "RSA84cyG5-3-",
        "colab_type": "code",
        "colab": {
          "base_uri": "https://localhost:8080/",
          "height": 187
        },
        "outputId": "673a0815-f92a-4e96-bed9-8837aad65bb2"
      },
      "source": [
        "X_val = X_val.reshape(X_val.shape[0], 1)\n",
        "Ŷ_val, _ = full_forward_propagation(np.transpose(X_val), params_values, ANN_ARCHITECTURE)\n",
        "Ŷ_val"
      ],
      "execution_count": 21,
      "outputs": [
        {
          "output_type": "execute_result",
          "data": {
            "text/plain": [
              "array([[3.20295275, 4.84345269, 3.1547475 , 5.59517574, 6.12762668,\n",
              "        5.74102718, 6.06842984, 2.01121094, 5.2349838 , 3.94209997,\n",
              "        5.45626961, 6.17043947, 6.10923369, 5.28605307, 6.06842984,\n",
              "        2.24394075, 1.92695725, 6.08883177, 4.54554859, 2.66791337,\n",
              "        5.76186311, 3.84568946, 5.61800336, 1.56333607, 2.53542193,\n",
              "        5.85632664, 4.59661786, 3.40380797, 1.79835952, 5.20944916,\n",
              "        6.24240493, 1.81609714, 4.18806366, 1.84270357, 2.21744246,\n",
              "        5.20944916, 6.32420476, 2.7527079 , 1.66976178, 5.41372626,\n",
              "        2.67851269, 5.7549178 , 4.99666052, 5.94938639, 6.29262042,\n",
              "        6.3283124 , 1.90921964, 5.78964433, 5.93549577, 3.2431238 ]])"
            ]
          },
          "metadata": {
            "tags": []
          },
          "execution_count": 21
        }
      ]
    },
    {
      "cell_type": "markdown",
      "metadata": {
        "id": "X0wAcK-f5-4J",
        "colab_type": "text"
      },
      "source": [
        "## Infer new output data"
      ]
    },
    {
      "cell_type": "code",
      "metadata": {
        "id": "1NIkuawf5-4K",
        "colab_type": "code",
        "colab": {
          "base_uri": "https://localhost:8080/",
          "height": 51
        },
        "outputId": "e89fc583-860a-49eb-ce1b-9acd188840ec"
      },
      "source": [
        "X_test = np.array([0., 0.2, 0.4, 0.6, 0.8, 1.0])\n",
        "X_test = X_test.reshape(X_test.shape[0], 1)\n",
        "Ŷ_test, _ = full_forward_propagation(np.transpose(X_test), params_values, ANN_ARCHITECTURE)\n",
        "Ŷ_test"
      ],
      "execution_count": 22,
      "outputs": [
        {
          "output_type": "execute_result",
          "data": {
            "text/plain": [
              "array([[1.51455762, 2.44002809, 3.77338158, 5.45628399, 6.32859898,\n",
              "        5.26180102]])"
            ]
          },
          "metadata": {
            "tags": []
          },
          "execution_count": 22
        }
      ]
    },
    {
      "cell_type": "code",
      "metadata": {
        "id": "sRRDHGTf5-4W",
        "colab_type": "code",
        "colab": {
          "base_uri": "https://localhost:8080/",
          "height": 295
        },
        "outputId": "a42a818b-028d-4df9-f9ac-a8c64c8dae7d"
      },
      "source": [
        "# Display training data and predicted data graphically\n",
        "plt.title('Training data (green color) + Predicted data (red color)')\n",
        "\n",
        "# training data in green color\n",
        "plt.scatter(X_train, Y_train, color='green',  alpha=0.5)\n",
        "\n",
        "# validation data in blue color\n",
        "plt.scatter(X_val, Ŷ_val, color='blue',  alpha=0.5)\n",
        "\n",
        "# predicted data in red color\n",
        "plt.scatter(X_test, Ŷ_test, color='red',  alpha=0.5)\n",
        "\n",
        "plt.xlabel('x')\n",
        "plt.ylabel('y')\n",
        "plt.show()"
      ],
      "execution_count": 23,
      "outputs": [
        {
          "output_type": "display_data",
          "data": {
            "image/png": "[encoded data removed]",
            "text/plain": [
              "<Figure size 432x288 with 1 Axes>"
            ]
          },
          "metadata": {
            "tags": [],
            "needs_background": "light"
          }
        }
      ]
    }
  ]
}