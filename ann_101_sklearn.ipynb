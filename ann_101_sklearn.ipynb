{
 "cells": [
  {
   "cell_type": "markdown",
   "metadata": {
    "colab_type": "text",
    "id": "23b-DNvOa9jC"
   },
   "source": [
    "## Import Python librairies"
   ]
  },
  {
   "cell_type": "code",
   "execution_count": 1,
   "metadata": {
    "colab": {},
    "colab_type": "code",
    "id": "pRu_5l-QzZ0y"
   },
   "outputs": [],
   "source": [
    "# package to store and manipulate neural-network input and output data\n",
    "import numpy as np\n",
    "\n",
    "# package to graphically display any data\n",
    "import matplotlib.pyplot as plt\n",
    "\n",
    "# package to manipulate neural-network models\n",
    "import sklearn\n",
    "from sklearn.neural_network import MLPRegressor"
   ]
  },
  {
   "cell_type": "code",
   "execution_count": 2,
   "metadata": {
    "colab": {
     "base_uri": "https://localhost:8080/",
     "height": 35
    },
    "colab_type": "code",
    "id": "OQHfsGcWze-8",
    "outputId": "24ebc41a-61cc-4bf4-943d-361c3c3fc5b1"
   },
   "outputs": [
    {
     "name": "stdout",
     "output_type": "stream",
     "text": [
      "sklearn version: 0.23.1\n"
     ]
    }
   ],
   "source": [
    "# the code is compatible with Sklearn 0.23.1\n",
    "print(\"sklearn version:\", sklearn.__version__)"
   ]
  },
  {
   "cell_type": "code",
   "execution_count": 3,
   "metadata": {
    "colab": {},
    "colab_type": "code",
    "id": "m6DkCttHHu41"
   },
   "outputs": [],
   "source": [
    "import time\n",
    "\n",
    "# trivial \"debug\" function to display the duration between time_1 and time_2\n",
    "def get_duration(time_1, time_2):\n",
    "  duration_time = time_2 - time_1\n",
    "  m, s = divmod(duration_time, 60)\n",
    "  h, m = divmod(m, 60)\n",
    "  s,m,h = int(round(s, 0)), int(round(m, 0)), int(round(h, 0))\n",
    "  duration = \"duration: \" + \"{0:02d}:{1:02d}:{2:02d}\".format(h, m, s)\n",
    "  return duration"
   ]
  },
  {
   "cell_type": "markdown",
   "metadata": {
    "colab_type": "text",
    "id": "d_53UB62hgdW"
   },
   "source": [
    "## Get the data"
   ]
  },
  {
   "cell_type": "code",
   "execution_count": 4,
   "metadata": {
    "colab": {},
    "colab_type": "code",
    "id": "HdfJ-KKbLWkx"
   },
   "outputs": [],
   "source": [
    "X_train = np.array([0.765,0.838,0.329,0.277,0.45,0.833,0.44,0.634,0.351,0.784,0.589,0.816,0.352,0.591,0.04,0.38,0.816,0.732,0.32,0.597,0.908,0.146,0.691,0.75,0.568,0.866,0.705,0.027,0.607,0.793,0.864,0.057,0.877,0.164,0.729,0.291,0.324,0.745,0.158,0.098,0.113,0.794,0.452,0.765,0.983,0.001,0.474,0.773,0.155,0.875,])\n",
    "Y_train = np.array([6.322,6.254,3.224,2.87,4.177,6.267,4.088,5.737,3.379,6.334,5.381,6.306,3.389,5.4,1.704,3.602,6.306,6.254,3.157,5.446,5.918,2.147,6.088,6.298,5.204,6.147,6.153,1.653,5.527,6.332,6.156,1.766,6.098,2.236,6.244,2.96,3.183,6.287,2.205,1.934,1.996,6.331,4.188,6.322,5.368,1.561,4.383,6.33,2.192,6.108,])\n",
    "X_val = np.array([0.329,0.528,0.323,0.952,0.868,0.931,0.69,0.112,0.574,0.421,0.972,0.715,0.7,0.58,0.69,0.163,0.093,0.695,0.493,0.243,0.928,0.409,0.619,0.011,0.218,0.647,0.499,0.354,0.064,0.571,0.836,0.068,0.451,0.074,0.158,0.571,0.754,0.259,0.035,0.595,0.245,0.929,0.546,0.901,0.822,0.797,0.089,0.924,0.903,0.334,])\n",
    "Y_val = np.array([3.221,4.858,3.176,5.617,6.141,5.769,6.081,1.995,5.259,3.932,5.458,6.193,6.129,5.305,6.081,2.228,1.912,6.106,4.547,2.665,5.791,3.829,5.619,1.598,2.518,5.826,4.603,3.405,1.794,5.23,6.26,1.81,4.18,1.832,2.208,5.234,6.306,2.759,1.684,5.432,2.673,5.781,5.019,5.965,6.295,6.329,1.894,5.816,5.951,3.258,])"
   ]
  },
  {
   "cell_type": "code",
   "execution_count": 5,
   "metadata": {
    "colab": {
     "base_uri": "https://localhost:8080/",
     "height": 109
    },
    "colab_type": "code",
    "id": "fyyY5acYagOB",
    "outputId": "58862a0a-2000-43ce-8a70-802a5f9ac675"
   },
   "outputs": [
    {
     "name": "stdout",
     "output_type": "stream",
     "text": [
      "X_train contains 50 samples\n",
      "Y_train contains 50 samples\n",
      "\n",
      "X_val contains 50 samples\n",
      "Y_val contains 50 samples\n"
     ]
    }
   ],
   "source": [
    "print('X_train contains %d samples' % X_train.shape)\n",
    "print('Y_train contains %d samples' % Y_train.shape)\n",
    "print('')\n",
    "print('X_val contains %d samples' % X_val.shape)\n",
    "print('Y_val contains %d samples' % Y_val.shape)"
   ]
  },
  {
   "cell_type": "code",
   "execution_count": 6,
   "metadata": {
    "colab": {
     "base_uri": "https://localhost:8080/",
     "height": 295
    },
    "colab_type": "code",
    "id": "L8itA09R9W20",
    "outputId": "8a11d48f-39dd-49e9-a5d9-a4b29ce1d5fd"
   },
   "outputs": [
    {
     "data": {
      "image/png": "[encoded data removed]",
      "text/plain": [
       "<Figure size 432x288 with 1 Axes>"
      ]
     },
     "metadata": {
      "needs_background": "light"
     },
     "output_type": "display_data"
    }
   ],
   "source": [
    "# Graphically display our training data\n",
    "plt.scatter(X_train, Y_train, color='green', alpha=0.5)\n",
    "plt.title('Scatter plot of the training data')\n",
    "plt.xlabel('x')\n",
    "plt.ylabel('y')\n",
    "plt.show()"
   ]
  },
  {
   "cell_type": "code",
   "execution_count": 7,
   "metadata": {
    "colab": {
     "base_uri": "https://localhost:8080/",
     "height": 295
    },
    "colab_type": "code",
    "id": "xoT9UQ_o6KeP",
    "outputId": "7fe5fbec-1b01-41a6-c44c-3e4fca5832fc"
   },
   "outputs": [
    {
     "data": {
      "image/png": "[encoded data removed]",
      "text/plain": [
       "<Figure size 432x288 with 1 Axes>"
      ]
     },
     "metadata": {
      "needs_background": "light"
     },
     "output_type": "display_data"
    }
   ],
   "source": [
    "# Graphically display our test data\n",
    "plt.scatter(X_val, Y_val, color='blue', alpha=0.5)\n",
    "plt.title('Scatter plot of the validation data')\n",
    "plt.xlabel('x')\n",
    "plt.ylabel('y')\n",
    "plt.show()"
   ]
  },
  {
   "cell_type": "markdown",
   "metadata": {
    "colab_type": "text",
    "id": "1OpOnS6phnec"
   },
   "source": [
    "## Build the artificial neural-network"
   ]
  },
  {
   "cell_type": "code",
   "execution_count": 8,
   "metadata": {
    "colab": {},
    "colab_type": "code",
    "id": "B6HcpfOpFbr_"
   },
   "outputs": [],
   "source": [
    "from collections import OrderedDict\n",
    "\n",
    "def create_model():\n",
    "  \n",
    "  # This returns a tensor\n",
    "  model = MLPRegressor(hidden_layer_sizes=(8, 8),\n",
    "                       solver='sgd',\n",
    "                       batch_size=1,\n",
    "                       learning_rate_init=0.01,\n",
    "                       shuffle=False, # to be consistent with previous example\n",
    "                      )\n",
    "  return model"
   ]
  },
  {
   "cell_type": "code",
   "execution_count": 9,
   "metadata": {
    "colab": {},
    "colab_type": "code",
    "id": "-qXNDkNhCFK4"
   },
   "outputs": [],
   "source": [
    "ann_model = create_model()"
   ]
  },
  {
   "cell_type": "code",
   "execution_count": 10,
   "metadata": {
    "colab": {
     "base_uri": "https://localhost:8080/",
     "height": 183
    },
    "colab_type": "code",
    "id": "3_JSjCbc_qfh",
    "outputId": "fb828b09-be6b-401b-a150-4ea8907a23a5"
   },
   "outputs": [
    {
     "name": "stdout",
     "output_type": "stream",
     "text": [
      "MLPRegressor(batch_size=1, hidden_layer_sizes=(8, 8), learning_rate_init=0.01,\n",
      "             shuffle=False, solver='sgd')\n"
     ]
    }
   ],
   "source": [
    "# Display a textual summary of the newly created model\n",
    "# Pay attention to size (a.k.a. total parameters) of the network\n",
    "print(ann_model)"
   ]
  },
  {
   "cell_type": "code",
   "execution_count": 11,
   "metadata": {
    "colab": {
     "base_uri": "https://localhost:8080/",
     "height": 54
    },
    "colab_type": "code",
    "id": "R-vfOF-sFRLH",
    "outputId": "a9065544-4452-45b3-b79a-fa07fd29e5b0"
   },
   "outputs": [],
   "source": [
    "# it does not seem possible to display the ANN weights\n",
    "#print('trainable_params:', ann_model.coefs_)"
   ]
  },
  {
   "cell_type": "markdown",
   "metadata": {
    "colab_type": "text",
    "id": "Ig8cHpbqjUtm"
   },
   "source": [
    "## Train the artificial neural-network model"
   ]
  },
  {
   "cell_type": "code",
   "execution_count": 12,
   "metadata": {
    "colab": {},
    "colab_type": "code",
    "id": "4-BOTCUiBiIu"
   },
   "outputs": [],
   "source": [
    "# Object for storing training results (similar to Tensorflow object)\n",
    "class Results:\n",
    "\n",
    "    history = {\n",
    "        'train_loss': np.array([]),\n",
    "        'valid_loss': np.array([]),   \n",
    "        'Ŷ_train': np.array([]),\n",
    "        'Ŷ_val': np.array([])\n",
    "    }"
   ]
  },
  {
   "cell_type": "code",
   "execution_count": 13,
   "metadata": {
    "colab": {
     "base_uri": "https://localhost:8080/",
     "height": 35
    },
    "colab_type": "code",
    "id": "ahPvbHaC-mTh",
    "outputId": "05d67224-b78b-4065-b30d-a62203497e47"
   },
   "outputs": [],
   "source": [
    "def get_loss(Ŷ, Y, verbose=False):\n",
    "  \n",
    "  # let's calculate the mean square error\n",
    "  # (could also be calculated with sklearn.metrics.mean_squared_error()\n",
    "  # or we could also calculate other errors like in 5% ok\n",
    "  mean_squared_error = np.sum((Ŷ - Y) ** 2)/Y.shape[0]\n",
    "  if verbose:\n",
    "    print(\"mean_squared_error:%.3f\" % mean_squared_error)\n",
    "  return mean_squared_error"
   ]
  },
  {
   "cell_type": "code",
   "execution_count": 15,
   "metadata": {
    "colab": {},
    "colab_type": "code",
    "id": "JlMR_KRv-V0e"
   },
   "outputs": [],
   "source": [
    "# No Pytorch model.fit() function as it is the case in Tensorflow\n",
    "# but we can implement it by ourselves.\n",
    "\n",
    "def fit(ann_model, X_train, Y_train, verbose=False,\n",
    "        batch_size=1, epochs=500, validation_test=None):\n",
    "    \n",
    "    X_train = X_train.reshape(-1, 1)\n",
    "    \n",
    "    if validation_test != None:\n",
    "      X_valid =  validation_test[0].reshape(-1, 1)\n",
    "      Y_valid =  validation_test[1]\n",
    "\n",
    "    results = Results()\n",
    "    \n",
    "    for epoch in range(0, epochs):\n",
    "        ann_model = ann_model.partial_fit(X_train, Y_train)\n",
    "\n",
    "        Ŷ_train = ann_model.predict(X_train)\n",
    "        train_loss = get_loss(Ŷ_train, Y_train)\n",
    "\n",
    "        if validation_test != None:\n",
    "            Ŷ_valid = ann_model.predict(X_valid)\n",
    "            valid_loss = get_loss(Ŷ_valid, Y_valid)\n",
    "\n",
    "        results.history['train_loss'] = np.append(results.history['train_loss'], train_loss)\n",
    "        results.history['Ŷ_train'] = Ŷ_train\n",
    "        if validation_test != None:\n",
    "            results.history['valid_loss'] = np.append(results.history['valid_loss'], valid_loss)\n",
    "            results.history['Ŷ_val'] = Ŷ_valid\n",
    "\n",
    "        if verbose:\n",
    "          if epoch % 100 == 0:\n",
    "            if validation_test != None:\n",
    "                print('epoch:%d, train_loss:%.3f, valid_loss:%.3f' \\\n",
    "                  % (epoch, train_loss, valid_loss))\n",
    "            else:\n",
    "                print('epoch:%d, train_loss:%.3f' \\\n",
    "                  % (epoch, train_loss))\n",
    "    \n",
    "    return results"
   ]
  },
  {
   "cell_type": "code",
   "execution_count": 16,
   "metadata": {
    "colab": {
     "base_uri": "https://localhost:8080/",
     "height": 220
    },
    "colab_type": "code",
    "id": "pIODL1KXHw6V",
    "outputId": "4b898789-05cb-4f18-cf0c-65718b86e686"
   },
   "outputs": [
    {
     "name": "stdout",
     "output_type": "stream",
     "text": [
      "training_duration: 00:00:02\n"
     ]
    }
   ],
   "source": [
    "# Train the model with the input data and the output_values\n",
    "\n",
    "t0 = time.time()\n",
    "results = fit(ann_model, X_train, Y_train, verbose=False,\n",
    "              batch_size=1, epochs=200, validation_test=(X_val, Y_val))\n",
    "t1 = time.time()\n",
    "print('training_%s' % get_duration(t0, t1))"
   ]
  },
  {
   "cell_type": "markdown",
   "metadata": {
    "colab_type": "text",
    "id": "kpNlaI9--ieU"
   },
   "source": [
    "## Evaluate the model"
   ]
  },
  {
   "cell_type": "code",
   "execution_count": 18,
   "metadata": {
    "colab": {
     "base_uri": "https://localhost:8080/",
     "height": 265
    },
    "colab_type": "code",
    "id": "Q_Hqk8Es-dKw",
    "outputId": "6eed6797-4d3b-47dd-ff15-5f384e81db50"
   },
   "outputs": [
    {
     "data": {
      "image/png": "[encoded data removed]",
      "text/plain": [
       "<Figure size 432x288 with 1 Axes>"
      ]
     },
     "metadata": {
      "needs_background": "light"
     },
     "output_type": "display_data"
    }
   ],
   "source": [
    "plt.plot(results.history['train_loss'], label = 'train_loss')\n",
    "plt.plot(results.history['valid_loss'], label = 'validation_loss')\n",
    "plt.legend()\n",
    "plt.show()"
   ]
  },
  {
   "cell_type": "markdown",
   "metadata": {
    "colab_type": "text",
    "id": "Q7Pxkh-6-wdV"
   },
   "source": [
    "## Predict new output data"
   ]
  },
  {
   "cell_type": "code",
   "execution_count": 19,
   "metadata": {
    "colab": {
     "base_uri": "https://localhost:8080/",
     "height": 128
    },
    "colab_type": "code",
    "id": "1N7C1yOk-zfr",
    "outputId": "25a36949-f342-48d8-9854-372fd6858c3b"
   },
   "outputs": [
    {
     "data": {
      "text/plain": [
       "array([1.56535798, 2.43413829, 3.763271  , 5.44730423, 6.26445472,\n",
       "       5.29461556])"
      ]
     },
     "execution_count": 19,
     "metadata": {},
     "output_type": "execute_result"
    }
   ],
   "source": [
    "X_test = np.array([0., 0.2, 0.4, 0.6, 0.8, 1.0]).reshape(-1, 1)\n",
    "Ŷ_test = ann_model.predict(X_test)\n",
    "Ŷ_test"
   ]
  },
  {
   "cell_type": "code",
   "execution_count": 23,
   "metadata": {
    "colab": {
     "base_uri": "https://localhost:8080/",
     "height": 295
    },
    "colab_type": "code",
    "id": "N3pZz6yv_Kh8",
    "outputId": "bb6dfceb-7dc3-4e60-e29b-43df964eb44e"
   },
   "outputs": [
    {
     "data": {
      "image/png": "[encoded data removed]",
      "text/plain": [
       "<Figure size 432x288 with 1 Axes>"
      ]
     },
     "metadata": {
      "needs_background": "light"
     },
     "output_type": "display_data"
    }
   ],
   "source": [
    "# Display training data and predicted data graphically\n",
    "plt.title('Training data (green color) + Predicted data (blue and red color)')\n",
    "\n",
    "# training data in green color\n",
    "plt.scatter(X_train, Y_train, color='green',  alpha=0.5)\n",
    "\n",
    "# predicted validation data in blue color\n",
    "plt.scatter(X_val, results.history['Ŷ_val'] , color='blue',  alpha=0.5)\n",
    "\n",
    "# predicted test data in blue color\n",
    "plt.scatter(X_test, Ŷ_test, color='red',  alpha=0.5)\n",
    "\n",
    "plt.xlabel('x')\n",
    "plt.ylabel('y')\n",
    "plt.show()"
   ]
  }
 ],
 "metadata": {
  "colab": {
   "collapsed_sections": [],
   "name": "Artificial_Neural_Network_101_PYTORCH.ipynb",
   "provenance": []
  },
  "kernelspec": {
   "display_name": "Python 3",
   "language": "python",
   "name": "python3"
  },
  "language_info": {
   "codemirror_mode": {
    "name": "ipython",
    "version": 3
   },
   "file_extension": ".py",
   "mimetype": "text/x-python",
   "name": "python",
   "nbconvert_exporter": "python",
   "pygments_lexer": "ipython3",
   "version": "3.8.3"
  }
 },
 "nbformat": 4,
 "nbformat_minor": 1
}
