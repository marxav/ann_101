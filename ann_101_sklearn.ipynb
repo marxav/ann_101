{
  "nbformat": 4,
  "nbformat_minor": 0,
  "metadata": {
    "colab": {
      "name": "Artificial_Neural_Network_101_PYTORCH.ipynb",
      "provenance": [],
      "collapsed_sections": []
    },
    "kernelspec": {
      "display_name": "Python 3",
      "language": "python",
      "name": "python3"
    },
    "language_info": {
      "codemirror_mode": {
        "name": "ipython",
        "version": 3
      },
      "file_extension": ".py",
      "mimetype": "text/x-python",
      "name": "python",
      "nbconvert_exporter": "python",
      "pygments_lexer": "ipython3",
      "version": "3.8.3"
    }
  },
  "cells": [
    {
      "cell_type": "markdown",
      "metadata": {
        "colab_type": "text",
        "id": "23b-DNvOa9jC"
      },
      "source": [
        "## Import Python librairies"
      ]
    },
    {
      "cell_type": "code",
      "metadata": {
        "colab_type": "code",
        "id": "pRu_5l-QzZ0y",
        "colab": {}
      },
      "source": [
        "# package to store and manipulate neural-network input and output data\n",
        "import numpy as np\n",
        "\n",
        "# package to graphically display any data\n",
        "import matplotlib.pyplot as plt\n",
        "\n",
        "# package to manipulate neural-network models\n",
        "import sklearn\n",
        "from sklearn.neural_network import MLPRegressor"
      ],
      "execution_count": 1,
      "outputs": []
    },
    {
      "cell_type": "code",
      "metadata": {
        "colab_type": "code",
        "id": "OQHfsGcWze-8",
        "colab": {
          "base_uri": "https://localhost:8080/",
          "height": 34
        },
        "outputId": "125c530a-d766-44ed-d3eb-4c01a5a9a4bd"
      },
      "source": [
        "# the code is compatible with Sklearn 0.22.2\n",
        "print(\"sklearn version:\", sklearn.__version__)"
      ],
      "execution_count": 2,
      "outputs": [
        {
          "output_type": "stream",
          "text": [
            "sklearn version: 0.22.2.post1\n"
          ],
          "name": "stdout"
        }
      ]
    },
    {
      "cell_type": "code",
      "metadata": {
        "colab_type": "code",
        "id": "m6DkCttHHu41",
        "colab": {}
      },
      "source": [
        "import time\n",
        "\n",
        "# trivial \"debug\" function to display the duration between time_1 and time_2\n",
        "def get_duration(time_1, time_2):\n",
        "  duration_time = time_2 - time_1\n",
        "  m, s = divmod(duration_time, 60)\n",
        "  h, m = divmod(m, 60)\n",
        "  s,m,h = int(round(s, 0)), int(round(m, 0)), int(round(h, 0))\n",
        "  duration = \"duration: \" + \"{0:02d}:{1:02d}:{2:02d}\".format(h, m, s)\n",
        "  return duration"
      ],
      "execution_count": 3,
      "outputs": []
    },
    {
      "cell_type": "markdown",
      "metadata": {
        "colab_type": "text",
        "id": "d_53UB62hgdW"
      },
      "source": [
        "## Get the data"
      ]
    },
    {
      "cell_type": "code",
      "metadata": {
        "colab_type": "code",
        "id": "HdfJ-KKbLWkx",
        "colab": {}
      },
      "source": [
        "X_train = np.array([0.765,0.838,0.329,0.277,0.45,0.833,0.44,0.634,0.351,0.784,0.589,0.816,0.352,0.591,0.04,0.38,0.816,0.732,0.32,0.597,0.908,0.146,0.691,0.75,0.568,0.866,0.705,0.027,0.607,0.793,0.864,0.057,0.877,0.164,0.729,0.291,0.324,0.745,0.158,0.098,0.113,0.794,0.452,0.765,0.983,0.001,0.474,0.773,0.155,0.875,])\n",
        "Y_train = np.array([6.322,6.254,3.224,2.87,4.177,6.267,4.088,5.737,3.379,6.334,5.381,6.306,3.389,5.4,1.704,3.602,6.306,6.254,3.157,5.446,5.918,2.147,6.088,6.298,5.204,6.147,6.153,1.653,5.527,6.332,6.156,1.766,6.098,2.236,6.244,2.96,3.183,6.287,2.205,1.934,1.996,6.331,4.188,6.322,5.368,1.561,4.383,6.33,2.192,6.108,])\n",
        "X_val = np.array([0.329,0.528,0.323,0.952,0.868,0.931,0.69,0.112,0.574,0.421,0.972,0.715,0.7,0.58,0.69,0.163,0.093,0.695,0.493,0.243,0.928,0.409,0.619,0.011,0.218,0.647,0.499,0.354,0.064,0.571,0.836,0.068,0.451,0.074,0.158,0.571,0.754,0.259,0.035,0.595,0.245,0.929,0.546,0.901,0.822,0.797,0.089,0.924,0.903,0.334,])\n",
        "Y_val = np.array([3.221,4.858,3.176,5.617,6.141,5.769,6.081,1.995,5.259,3.932,5.458,6.193,6.129,5.305,6.081,2.228,1.912,6.106,4.547,2.665,5.791,3.829,5.619,1.598,2.518,5.826,4.603,3.405,1.794,5.23,6.26,1.81,4.18,1.832,2.208,5.234,6.306,2.759,1.684,5.432,2.673,5.781,5.019,5.965,6.295,6.329,1.894,5.816,5.951,3.258,])"
      ],
      "execution_count": 4,
      "outputs": []
    },
    {
      "cell_type": "code",
      "metadata": {
        "colab_type": "code",
        "id": "fyyY5acYagOB",
        "colab": {
          "base_uri": "https://localhost:8080/",
          "height": 104
        },
        "outputId": "4980233c-7adc-4514-8626-fb32546617ec"
      },
      "source": [
        "print('X_train contains %d samples' % X_train.shape)\n",
        "print('Y_train contains %d samples' % Y_train.shape)\n",
        "print('')\n",
        "print('X_val contains %d samples' % X_val.shape)\n",
        "print('Y_val contains %d samples' % Y_val.shape)"
      ],
      "execution_count": 5,
      "outputs": [
        {
          "output_type": "stream",
          "text": [
            "X_train contains 50 samples\n",
            "Y_train contains 50 samples\n",
            "\n",
            "X_val contains 50 samples\n",
            "Y_val contains 50 samples\n"
          ],
          "name": "stdout"
        }
      ]
    },
    {
      "cell_type": "code",
      "metadata": {
        "colab_type": "code",
        "id": "L8itA09R9W20",
        "colab": {
          "base_uri": "https://localhost:8080/",
          "height": 295
        },
        "outputId": "6d820333-2f34-4380-ac1a-90c7c707d607"
      },
      "source": [
        "# Graphically display our training data\n",
        "plt.scatter(X_train, Y_train, color='green', alpha=0.5)\n",
        "plt.title('Scatter plot of the training data')\n",
        "plt.xlabel('x')\n",
        "plt.ylabel('y')\n",
        "plt.show()"
      ],
      "execution_count": 6,
      "outputs": [
        {
          "output_type": "display_data",
          "data": {
            "image/png": "[encoded data removed]",
            "text/plain": [
              "<Figure size 432x288 with 1 Axes>"
            ]
          },
          "metadata": {
            "tags": [],
            "needs_background": "light"
          }
        }
      ]
    },
    {
      "cell_type": "code",
      "metadata": {
        "colab_type": "code",
        "id": "xoT9UQ_o6KeP",
        "colab": {
          "base_uri": "https://localhost:8080/",
          "height": 295
        },
        "outputId": "66fe35ff-87f7-4521-e0a3-b920f26b19df"
      },
      "source": [
        "# Graphically display our test data\n",
        "plt.scatter(X_val, Y_val, color='blue', alpha=0.5)\n",
        "plt.title('Scatter plot of the validation data')\n",
        "plt.xlabel('x')\n",
        "plt.ylabel('y')\n",
        "plt.show()"
      ],
      "execution_count": 7,
      "outputs": [
        {
          "output_type": "display_data",
          "data": {
            "image/png": "[encoded data removed]",
            "text/plain": [
              "<Figure size 432x288 with 1 Axes>"
            ]
          },
          "metadata": {
            "tags": [],
            "needs_background": "light"
          }
        }
      ]
    },
    {
      "cell_type": "markdown",
      "metadata": {
        "colab_type": "text",
        "id": "1OpOnS6phnec"
      },
      "source": [
        "## Build the artificial neural-network"
      ]
    },
    {
      "cell_type": "code",
      "metadata": {
        "colab_type": "code",
        "id": "B6HcpfOpFbr_",
        "colab": {}
      },
      "source": [
        "from collections import OrderedDict\n",
        "\n",
        "def create_model(batch_size):\n",
        "  \n",
        "  # This returns a tensor\n",
        "  model = MLPRegressor(hidden_layer_sizes=(8, 8),\n",
        "                       solver='sgd',\n",
        "                       batch_size=batch_size,\n",
        "                       learning_rate_init=0.01,\n",
        "                       shuffle=True, # True by default\n",
        "                      )\n",
        "  return model"
      ],
      "execution_count": 8,
      "outputs": []
    },
    {
      "cell_type": "code",
      "metadata": {
        "colab_type": "code",
        "id": "-qXNDkNhCFK4",
        "colab": {}
      },
      "source": [
        "batch_size=1\n",
        "ann_model = create_model(batch_size)"
      ],
      "execution_count": 9,
      "outputs": []
    },
    {
      "cell_type": "code",
      "metadata": {
        "colab_type": "code",
        "id": "3_JSjCbc_qfh",
        "colab": {
          "base_uri": "https://localhost:8080/",
          "height": 139
        },
        "outputId": "017b5224-0778-45be-90ea-120e3737140b"
      },
      "source": [
        "# Display a textual summary of the newly created model\n",
        "# Pay attention to size (a.k.a. total parameters) of the network\n",
        "print(ann_model)"
      ],
      "execution_count": 10,
      "outputs": [
        {
          "output_type": "stream",
          "text": [
            "MLPRegressor(activation='relu', alpha=0.0001, batch_size=1, beta_1=0.9,\n",
            "             beta_2=0.999, early_stopping=False, epsilon=1e-08,\n",
            "             hidden_layer_sizes=(8, 8), learning_rate='constant',\n",
            "             learning_rate_init=0.01, max_fun=15000, max_iter=200, momentum=0.9,\n",
            "             n_iter_no_change=10, nesterovs_momentum=True, power_t=0.5,\n",
            "             random_state=None, shuffle=True, solver='sgd', tol=0.0001,\n",
            "             validation_fraction=0.1, verbose=False, warm_start=False)\n"
          ],
          "name": "stdout"
        }
      ]
    },
    {
      "cell_type": "code",
      "metadata": {
        "colab_type": "code",
        "id": "R-vfOF-sFRLH",
        "colab": {}
      },
      "source": [
        "# it does not seem possible to display the ANN weights\n",
        "#print('trainable_params:', ann_model.coefs_)"
      ],
      "execution_count": 11,
      "outputs": []
    },
    {
      "cell_type": "markdown",
      "metadata": {
        "colab_type": "text",
        "id": "Ig8cHpbqjUtm"
      },
      "source": [
        "## Train the artificial neural-network model"
      ]
    },
    {
      "cell_type": "code",
      "metadata": {
        "colab_type": "code",
        "id": "4-BOTCUiBiIu",
        "colab": {}
      },
      "source": [
        "# Object for storing training results (similar to Tensorflow object)\n",
        "class Results:\n",
        "\n",
        "    history = {\n",
        "        'train_loss': np.array([]),\n",
        "        'valid_loss': np.array([]),   \n",
        "        'Ŷ_train': np.array([]),\n",
        "        'Ŷ_val': np.array([])\n",
        "    }"
      ],
      "execution_count": 12,
      "outputs": []
    },
    {
      "cell_type": "code",
      "metadata": {
        "colab_type": "code",
        "id": "ahPvbHaC-mTh",
        "colab": {}
      },
      "source": [
        "def get_loss(Ŷ, Y, verbose=False):\n",
        "  \n",
        "  # let's calculate the mean square error\n",
        "  # (could also be calculated with sklearn.metrics.mean_squared_error()\n",
        "  # or we could also calculate other errors like in 5% ok\n",
        "  mean_squared_error = np.sum((Ŷ - Y) ** 2)/Y.shape[0]\n",
        "  if verbose:\n",
        "    print(\"mean_squared_error:%.3f\" % mean_squared_error)\n",
        "  return mean_squared_error"
      ],
      "execution_count": 13,
      "outputs": []
    },
    {
      "cell_type": "code",
      "metadata": {
        "colab_type": "code",
        "id": "JlMR_KRv-V0e",
        "colab": {}
      },
      "source": [
        "# No model.fit() function fully equivalent to Tensorflow fit() function\n",
        "# but we can implement it by ourselves.\n",
        "\n",
        "def fit(ann_model, X_train, Y_train, verbose=False,\n",
        "        epochs=500, validation_test=None):\n",
        "    \n",
        "    X_train = X_train.reshape(-1, 1)\n",
        "    \n",
        "    if validation_test != None:\n",
        "      X_valid =  validation_test[0].reshape(-1, 1)\n",
        "      Y_valid =  validation_test[1]\n",
        "\n",
        "    results = Results()\n",
        "    \n",
        "    for epoch in range(0, epochs):\n",
        "        ann_model = ann_model.partial_fit(X_train, Y_train)\n",
        "\n",
        "        Ŷ_train = ann_model.predict(X_train)\n",
        "        train_loss = get_loss(Ŷ_train, Y_train)\n",
        "\n",
        "        if validation_test != None:\n",
        "            Ŷ_valid = ann_model.predict(X_valid)\n",
        "            valid_loss = get_loss(Ŷ_valid, Y_valid)\n",
        "\n",
        "        results.history['train_loss'] = np.append(results.history['train_loss'], train_loss)\n",
        "        results.history['Ŷ_train'] = Ŷ_train\n",
        "        if validation_test != None:\n",
        "            results.history['valid_loss'] = np.append(results.history['valid_loss'], valid_loss)\n",
        "            results.history['Ŷ_val'] = Ŷ_valid\n",
        "\n",
        "        if verbose:\n",
        "          if epoch % 100 == 0:\n",
        "            if validation_test != None:\n",
        "                print('epoch:%d, train_loss:%.3f, valid_loss:%.3f' \\\n",
        "                  % (epoch, train_loss, valid_loss))\n",
        "            else:\n",
        "                print('epoch:%d, train_loss:%.3f' \\\n",
        "                  % (epoch, train_loss))\n",
        "    \n",
        "    return results"
      ],
      "execution_count": 14,
      "outputs": []
    },
    {
      "cell_type": "code",
      "metadata": {
        "colab_type": "code",
        "id": "pIODL1KXHw6V",
        "colab": {
          "base_uri": "https://localhost:8080/",
          "height": 34
        },
        "outputId": "e85e5e19-b67a-4eec-b678-a25d42985b5d"
      },
      "source": [
        "# Train the model with the input data and the output_values\n",
        "\n",
        "t0 = time.time()\n",
        "results = fit(ann_model, X_train, Y_train, verbose=False,\n",
        "              #batch_size=1, \n",
        "              epochs=200, \n",
        "              validation_test=(X_val, Y_val))\n",
        "t1 = time.time()\n",
        "print('training_%s' % get_duration(t0, t1))"
      ],
      "execution_count": 15,
      "outputs": [
        {
          "output_type": "stream",
          "text": [
            "training_duration: 00:00:03\n"
          ],
          "name": "stdout"
        }
      ]
    },
    {
      "cell_type": "markdown",
      "metadata": {
        "colab_type": "text",
        "id": "kpNlaI9--ieU"
      },
      "source": [
        "## Evaluate the model"
      ]
    },
    {
      "cell_type": "code",
      "metadata": {
        "colab_type": "code",
        "id": "Q_Hqk8Es-dKw",
        "colab": {
          "base_uri": "https://localhost:8080/",
          "height": 267
        },
        "outputId": "72f6b279-06c3-4b42-c3db-79ec8c1d2811"
      },
      "source": [
        "plt.plot(results.history['train_loss'], label = 'train_loss')\n",
        "plt.plot(results.history['valid_loss'], label = 'validation_loss')\n",
        "plt.legend()\n",
        "plt.show()"
      ],
      "execution_count": 16,
      "outputs": [
        {
          "output_type": "display_data",
          "data": {
            "image/png": "[encoded data removed]",
            "text/plain": [
              "<Figure size 432x288 with 1 Axes>"
            ]
          },
          "metadata": {
            "tags": [],
            "needs_background": "light"
          }
        }
      ]
    },
    {
      "cell_type": "markdown",
      "metadata": {
        "colab_type": "text",
        "id": "Q7Pxkh-6-wdV"
      },
      "source": [
        "## Predict new output data"
      ]
    },
    {
      "cell_type": "code",
      "metadata": {
        "colab_type": "code",
        "id": "1N7C1yOk-zfr",
        "colab": {
          "base_uri": "https://localhost:8080/",
          "height": 52
        },
        "outputId": "1b9b8cd6-ec63-4e75-a976-3face0000cf0"
      },
      "source": [
        "X_test = np.array([0., 0.2, 0.4, 0.6, 0.8, 1.0]).reshape(-1, 1)\n",
        "Ŷ_test = ann_model.predict(X_test)\n",
        "Ŷ_test"
      ],
      "execution_count": 17,
      "outputs": [
        {
          "output_type": "execute_result",
          "data": {
            "text/plain": [
              "array([1.53671393, 2.31898379, 3.74452429, 5.37325273, 6.2749538 ,\n",
              "       5.32433337])"
            ]
          },
          "metadata": {
            "tags": []
          },
          "execution_count": 17
        }
      ]
    },
    {
      "cell_type": "code",
      "metadata": {
        "colab_type": "code",
        "id": "N3pZz6yv_Kh8",
        "colab": {
          "base_uri": "https://localhost:8080/",
          "height": 295
        },
        "outputId": "86db7373-0764-41fa-c3b6-68f896c316b9"
      },
      "source": [
        "# Display training data and predicted data graphically\n",
        "plt.title('Training data (green color) + Predicted data (blue and red color)')\n",
        "\n",
        "# training data in green color\n",
        "plt.scatter(X_train, Y_train, color='green',  alpha=0.5)\n",
        "\n",
        "# predicted validation data in blue color\n",
        "plt.scatter(X_val, results.history['Ŷ_val'] , color='blue',  alpha=0.5)\n",
        "\n",
        "# predicted test data in blue color\n",
        "plt.scatter(X_test, Ŷ_test, color='red',  alpha=0.5)\n",
        "\n",
        "plt.xlabel('x')\n",
        "plt.ylabel('y')\n",
        "plt.show()"
      ],
      "execution_count": 18,
      "outputs": [
        {
          "output_type": "display_data",
          "data": {
            "image/png": "[encoded data removed]",
            "text/plain": [
              "<Figure size 432x288 with 1 Axes>"
            ]
          },
          "metadata": {
            "tags": [],
            "needs_background": "light"
          }
        }
      ]
    }
  ]
}